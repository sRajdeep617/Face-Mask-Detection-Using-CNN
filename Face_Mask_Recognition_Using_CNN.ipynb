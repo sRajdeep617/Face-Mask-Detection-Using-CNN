{
  "nbformat": 4,
  "nbformat_minor": 0,
  "metadata": {
    "colab": {
      "name": "Face Mask Recognition Using CNN.ipynb",
      "provenance": [],
      "mount_file_id": "1QVhmbuY95HD3mqqlbAOyP477oLwxDvCM",
      "authorship_tag": "ABX9TyMmrq+9w0LOi/IkGBCaRHDv",
      "include_colab_link": true
    },
    "kernelspec": {
      "name": "python3",
      "display_name": "Python 3"
    },
    "language_info": {
      "name": "python"
    },
    "accelerator": "GPU"
  },
  "cells": [
    {
      "cell_type": "markdown",
      "metadata": {
        "id": "view-in-github",
        "colab_type": "text"
      },
      "source": [
        "<a href=\"https://colab.research.google.com/github/sRajdeep617/Face-Mask-Detection-Using-CNN/blob/main/Face_Mask_Recognition_Using_CNN.ipynb\" target=\"_parent\"><img src=\"https://colab.research.google.com/assets/colab-badge.svg\" alt=\"Open In Colab\"/></a>"
      ]
    },
    {
      "cell_type": "code",
      "execution_count": 1,
      "metadata": {
        "id": "VAmSjaZ0x_Qz"
      },
      "outputs": [],
      "source": [
        "import numpy as np\n",
        "import pandas as pd"
      ]
    },
    {
      "cell_type": "code",
      "source": [
        "!pip install opencv-python"
      ],
      "metadata": {
        "colab": {
          "base_uri": "https://localhost:8080/"
        },
        "id": "6e5ICcuU0rS3",
        "outputId": "9abddaa2-f7b2-4b35-cdd8-ce1004ac2f89"
      },
      "execution_count": 2,
      "outputs": [
        {
          "output_type": "stream",
          "name": "stdout",
          "text": [
            "Requirement already satisfied: opencv-python in /usr/local/lib/python3.7/dist-packages (4.1.2.30)\n",
            "Requirement already satisfied: numpy>=1.14.5 in /usr/local/lib/python3.7/dist-packages (from opencv-python) (1.21.5)\n"
          ]
        }
      ]
    },
    {
      "cell_type": "code",
      "source": [
        "import matplotlib.pyplot as plt\n",
        "import seaborn as sns \n",
        "import tensorflow as tf \n",
        "import cv2"
      ],
      "metadata": {
        "id": "9qOM3PLe00cV"
      },
      "execution_count": 3,
      "outputs": []
    },
    {
      "cell_type": "code",
      "source": [
        "annotations_directory = '/content/drive/MyDrive/Projects/Face Mask Recognition/annotations'\n",
        "images_directory = '/content/drive/MyDrive/Projects/Face Mask Recognition/images'"
      ],
      "metadata": {
        "id": "M5G_75db1HT0"
      },
      "execution_count": 4,
      "outputs": []
    },
    {
      "cell_type": "code",
      "source": [
        "information = {'xmin': [], 'ymin': [], 'xmax': [], 'ymax': [], 'label': [], 'file': [], 'width': [], 'height': []}"
      ],
      "metadata": {
        "id": "c4Awww7G2IxR"
      },
      "execution_count": 5,
      "outputs": []
    },
    {
      "cell_type": "code",
      "source": [
        "import glob\n",
        "from xml.etree import ElementTree"
      ],
      "metadata": {
        "id": "CfbTfilp2J0s"
      },
      "execution_count": 6,
      "outputs": []
    },
    {
      "cell_type": "code",
      "source": [
        "for annotation in glob.glob(annotations_directory + '/*.xml'):\n",
        "  tree = ElementTree.parse(annotation)\n",
        "\n",
        "  for element in tree.iter():\n",
        "    if 'size' in element.tag:\n",
        "      for attribute in list(element):\n",
        "        if 'width' in attribute.tag:\n",
        "          width = int(round(float(attribute.text)))\n",
        "\n",
        "        if 'height' in attribute.tag:\n",
        "          height = int(round(float(attribute.text)))\n",
        "\n",
        "    if 'object' in element.tag:\n",
        "      for attribute in list(element):\n",
        "\n",
        "        if 'name' in attribute.tag:\n",
        "          name = attribute.text\n",
        "          information['label'] += [name]\n",
        "          information['width'] += [width]\n",
        "          information['height'] += [height]\n",
        "          information['file'] += [annotation.split('/')[-1][0: -4]]\n",
        "\n",
        "        if 'bndbox' in attribute.tag:\n",
        "          for dimension in list(attribute):\n",
        "            if 'xmin' in dimension.tag:\n",
        "              xmin = int(round(float(dimension.text)))\n",
        "              information['xmin'] += [xmin]\n",
        "\n",
        "            if 'ymin' in dimension.tag:\n",
        "              ymin = int(round(float(dimension.text)))\n",
        "              information['ymin'] += [ymin]\n",
        "\n",
        "            if 'xmax' in dimension.tag:\n",
        "              xmax = int(round(float(dimension.text)))\n",
        "              information['xmax'] += [xmax]\n",
        "\n",
        "            if 'ymax' in dimension.tag:\n",
        "              ymax = int(round(float(dimension.text)))\n",
        "              information['ymax'] += [ymax]"
      ],
      "metadata": {
        "id": "3xnBr3qc2m3q"
      },
      "execution_count": 7,
      "outputs": []
    },
    {
      "cell_type": "code",
      "source": [
        "df = pd.DataFrame.from_dict(information, orient='index')\n",
        "df = df.transpose()"
      ],
      "metadata": {
        "id": "D5HMXpPh8tIQ"
      },
      "execution_count": 8,
      "outputs": []
    },
    {
      "cell_type": "code",
      "source": [
        "df.head(10)"
      ],
      "metadata": {
        "colab": {
          "base_uri": "https://localhost:8080/",
          "height": 363
        },
        "id": "f3zvrPiL78b1",
        "outputId": "89900249-50c9-4269-d4b2-e114faa38343"
      },
      "execution_count": 9,
      "outputs": [
        {
          "output_type": "execute_result",
          "data": {
            "text/plain": [
              "  xmin ymin xmax ymax         label            file width height\n",
              "0  321   34  354   69     with_mask   maksssksksss1   400    156\n",
              "1  224   38  261   73     with_mask   maksssksksss1   400    156\n",
              "2  299   58  315   81     with_mask   maksssksksss1   400    156\n",
              "3  143   74  174  115     with_mask   maksssksksss1   400    156\n",
              "4   74   69   95   99     with_mask   maksssksksss1   400    156\n",
              "5  191   67  221   93     with_mask   maksssksksss1   400    156\n",
              "6   21   73   44   93     with_mask   maksssksksss1   400    156\n",
              "7  369   70  398   99     with_mask   maksssksksss1   400    156\n",
              "8   83   56  111   89  without_mask   maksssksksss1   400    156\n",
              "9   98  267  194  383     with_mask  maksssksksss10   301    400"
            ],
            "text/html": [
              "\n",
              "  <div id=\"df-22944df3-5f02-404b-8c54-bb3c8a9b2df5\">\n",
              "    <div class=\"colab-df-container\">\n",
              "      <div>\n",
              "<style scoped>\n",
              "    .dataframe tbody tr th:only-of-type {\n",
              "        vertical-align: middle;\n",
              "    }\n",
              "\n",
              "    .dataframe tbody tr th {\n",
              "        vertical-align: top;\n",
              "    }\n",
              "\n",
              "    .dataframe thead th {\n",
              "        text-align: right;\n",
              "    }\n",
              "</style>\n",
              "<table border=\"1\" class=\"dataframe\">\n",
              "  <thead>\n",
              "    <tr style=\"text-align: right;\">\n",
              "      <th></th>\n",
              "      <th>xmin</th>\n",
              "      <th>ymin</th>\n",
              "      <th>xmax</th>\n",
              "      <th>ymax</th>\n",
              "      <th>label</th>\n",
              "      <th>file</th>\n",
              "      <th>width</th>\n",
              "      <th>height</th>\n",
              "    </tr>\n",
              "  </thead>\n",
              "  <tbody>\n",
              "    <tr>\n",
              "      <th>0</th>\n",
              "      <td>321</td>\n",
              "      <td>34</td>\n",
              "      <td>354</td>\n",
              "      <td>69</td>\n",
              "      <td>with_mask</td>\n",
              "      <td>maksssksksss1</td>\n",
              "      <td>400</td>\n",
              "      <td>156</td>\n",
              "    </tr>\n",
              "    <tr>\n",
              "      <th>1</th>\n",
              "      <td>224</td>\n",
              "      <td>38</td>\n",
              "      <td>261</td>\n",
              "      <td>73</td>\n",
              "      <td>with_mask</td>\n",
              "      <td>maksssksksss1</td>\n",
              "      <td>400</td>\n",
              "      <td>156</td>\n",
              "    </tr>\n",
              "    <tr>\n",
              "      <th>2</th>\n",
              "      <td>299</td>\n",
              "      <td>58</td>\n",
              "      <td>315</td>\n",
              "      <td>81</td>\n",
              "      <td>with_mask</td>\n",
              "      <td>maksssksksss1</td>\n",
              "      <td>400</td>\n",
              "      <td>156</td>\n",
              "    </tr>\n",
              "    <tr>\n",
              "      <th>3</th>\n",
              "      <td>143</td>\n",
              "      <td>74</td>\n",
              "      <td>174</td>\n",
              "      <td>115</td>\n",
              "      <td>with_mask</td>\n",
              "      <td>maksssksksss1</td>\n",
              "      <td>400</td>\n",
              "      <td>156</td>\n",
              "    </tr>\n",
              "    <tr>\n",
              "      <th>4</th>\n",
              "      <td>74</td>\n",
              "      <td>69</td>\n",
              "      <td>95</td>\n",
              "      <td>99</td>\n",
              "      <td>with_mask</td>\n",
              "      <td>maksssksksss1</td>\n",
              "      <td>400</td>\n",
              "      <td>156</td>\n",
              "    </tr>\n",
              "    <tr>\n",
              "      <th>5</th>\n",
              "      <td>191</td>\n",
              "      <td>67</td>\n",
              "      <td>221</td>\n",
              "      <td>93</td>\n",
              "      <td>with_mask</td>\n",
              "      <td>maksssksksss1</td>\n",
              "      <td>400</td>\n",
              "      <td>156</td>\n",
              "    </tr>\n",
              "    <tr>\n",
              "      <th>6</th>\n",
              "      <td>21</td>\n",
              "      <td>73</td>\n",
              "      <td>44</td>\n",
              "      <td>93</td>\n",
              "      <td>with_mask</td>\n",
              "      <td>maksssksksss1</td>\n",
              "      <td>400</td>\n",
              "      <td>156</td>\n",
              "    </tr>\n",
              "    <tr>\n",
              "      <th>7</th>\n",
              "      <td>369</td>\n",
              "      <td>70</td>\n",
              "      <td>398</td>\n",
              "      <td>99</td>\n",
              "      <td>with_mask</td>\n",
              "      <td>maksssksksss1</td>\n",
              "      <td>400</td>\n",
              "      <td>156</td>\n",
              "    </tr>\n",
              "    <tr>\n",
              "      <th>8</th>\n",
              "      <td>83</td>\n",
              "      <td>56</td>\n",
              "      <td>111</td>\n",
              "      <td>89</td>\n",
              "      <td>without_mask</td>\n",
              "      <td>maksssksksss1</td>\n",
              "      <td>400</td>\n",
              "      <td>156</td>\n",
              "    </tr>\n",
              "    <tr>\n",
              "      <th>9</th>\n",
              "      <td>98</td>\n",
              "      <td>267</td>\n",
              "      <td>194</td>\n",
              "      <td>383</td>\n",
              "      <td>with_mask</td>\n",
              "      <td>maksssksksss10</td>\n",
              "      <td>301</td>\n",
              "      <td>400</td>\n",
              "    </tr>\n",
              "  </tbody>\n",
              "</table>\n",
              "</div>\n",
              "      <button class=\"colab-df-convert\" onclick=\"convertToInteractive('df-22944df3-5f02-404b-8c54-bb3c8a9b2df5')\"\n",
              "              title=\"Convert this dataframe to an interactive table.\"\n",
              "              style=\"display:none;\">\n",
              "        \n",
              "  <svg xmlns=\"http://www.w3.org/2000/svg\" height=\"24px\"viewBox=\"0 0 24 24\"\n",
              "       width=\"24px\">\n",
              "    <path d=\"M0 0h24v24H0V0z\" fill=\"none\"/>\n",
              "    <path d=\"M18.56 5.44l.94 2.06.94-2.06 2.06-.94-2.06-.94-.94-2.06-.94 2.06-2.06.94zm-11 1L8.5 8.5l.94-2.06 2.06-.94-2.06-.94L8.5 2.5l-.94 2.06-2.06.94zm10 10l.94 2.06.94-2.06 2.06-.94-2.06-.94-.94-2.06-.94 2.06-2.06.94z\"/><path d=\"M17.41 7.96l-1.37-1.37c-.4-.4-.92-.59-1.43-.59-.52 0-1.04.2-1.43.59L10.3 9.45l-7.72 7.72c-.78.78-.78 2.05 0 2.83L4 21.41c.39.39.9.59 1.41.59.51 0 1.02-.2 1.41-.59l7.78-7.78 2.81-2.81c.8-.78.8-2.07 0-2.86zM5.41 20L4 18.59l7.72-7.72 1.47 1.35L5.41 20z\"/>\n",
              "  </svg>\n",
              "      </button>\n",
              "      \n",
              "  <style>\n",
              "    .colab-df-container {\n",
              "      display:flex;\n",
              "      flex-wrap:wrap;\n",
              "      gap: 12px;\n",
              "    }\n",
              "\n",
              "    .colab-df-convert {\n",
              "      background-color: #E8F0FE;\n",
              "      border: none;\n",
              "      border-radius: 50%;\n",
              "      cursor: pointer;\n",
              "      display: none;\n",
              "      fill: #1967D2;\n",
              "      height: 32px;\n",
              "      padding: 0 0 0 0;\n",
              "      width: 32px;\n",
              "    }\n",
              "\n",
              "    .colab-df-convert:hover {\n",
              "      background-color: #E2EBFA;\n",
              "      box-shadow: 0px 1px 2px rgba(60, 64, 67, 0.3), 0px 1px 3px 1px rgba(60, 64, 67, 0.15);\n",
              "      fill: #174EA6;\n",
              "    }\n",
              "\n",
              "    [theme=dark] .colab-df-convert {\n",
              "      background-color: #3B4455;\n",
              "      fill: #D2E3FC;\n",
              "    }\n",
              "\n",
              "    [theme=dark] .colab-df-convert:hover {\n",
              "      background-color: #434B5C;\n",
              "      box-shadow: 0px 1px 3px 1px rgba(0, 0, 0, 0.15);\n",
              "      filter: drop-shadow(0px 1px 2px rgba(0, 0, 0, 0.3));\n",
              "      fill: #FFFFFF;\n",
              "    }\n",
              "  </style>\n",
              "\n",
              "      <script>\n",
              "        const buttonEl =\n",
              "          document.querySelector('#df-22944df3-5f02-404b-8c54-bb3c8a9b2df5 button.colab-df-convert');\n",
              "        buttonEl.style.display =\n",
              "          google.colab.kernel.accessAllowed ? 'block' : 'none';\n",
              "\n",
              "        async function convertToInteractive(key) {\n",
              "          const element = document.querySelector('#df-22944df3-5f02-404b-8c54-bb3c8a9b2df5');\n",
              "          const dataTable =\n",
              "            await google.colab.kernel.invokeFunction('convertToInteractive',\n",
              "                                                     [key], {});\n",
              "          if (!dataTable) return;\n",
              "\n",
              "          const docLinkHtml = 'Like what you see? Visit the ' +\n",
              "            '<a target=\"_blank\" href=https://colab.research.google.com/notebooks/data_table.ipynb>data table notebook</a>'\n",
              "            + ' to learn more about interactive tables.';\n",
              "          element.innerHTML = '';\n",
              "          dataTable['output_type'] = 'display_data';\n",
              "          await google.colab.output.renderOutput(dataTable, element);\n",
              "          const docLink = document.createElement('div');\n",
              "          docLink.innerHTML = docLinkHtml;\n",
              "          element.appendChild(docLink);\n",
              "        }\n",
              "      </script>\n",
              "    </div>\n",
              "  </div>\n",
              "  "
            ]
          },
          "metadata": {},
          "execution_count": 9
        }
      ]
    },
    {
      "cell_type": "markdown",
      "source": [
        "# Feature Engineering"
      ],
      "metadata": {
        "id": "gU4XN7gK9vsD"
      }
    },
    {
      "cell_type": "code",
      "source": [
        "# add annotation and image file names\n",
        "df['annotation_file'] = df['file'] + '.xml'\n",
        "df['image_file'] = df['file'] + '.png'\n",
        "\n",
        "# tidy grammatival issues\n",
        "df.loc[df['label'] == 'mask_weared_incorrect', 'label'] = 'mask_incorrectly_worn'"
      ],
      "metadata": {
        "id": "xuSwxo3f8zD3"
      },
      "execution_count": 10,
      "outputs": []
    },
    {
      "cell_type": "markdown",
      "source": [
        "**Check if label is right**\n",
        "\n",
        "image maksssksksss1.png is labeled with several categories, we can simply check the actual image to see if the labels are right"
      ],
      "metadata": {
        "id": "roFtWfGk8FEC"
      }
    },
    {
      "cell_type": "code",
      "source": [
        "# function to shpw actual image\n",
        "def render_image(image):\n",
        "  plt.figure(figsize = (12, 8))\n",
        "  plt.imshow(image)\n",
        "  plt.show()\n",
        "\n",
        "# function to cnvert BGR to RGB\n",
        "def convert_to_RGB(img):\n",
        "  return cv2.cvtColor(img, cv2.COLOR_BGR2RGB)"
      ],
      "metadata": {
        "id": "goB9U1-S58WH"
      },
      "execution_count": 11,
      "outputs": []
    },
    {
      "cell_type": "code",
      "source": [
        "'''df['image_file'].iloc[0]'''"
      ],
      "metadata": {
        "colab": {
          "base_uri": "https://localhost:8080/",
          "height": 36
        },
        "id": "rKqvOpps6hq0",
        "outputId": "25643334-6461-47ec-c489-d135c5f05b01"
      },
      "execution_count": 12,
      "outputs": [
        {
          "output_type": "execute_result",
          "data": {
            "text/plain": [
              "\"df['image_file'].iloc[0]\""
            ],
            "application/vnd.google.colaboratory.intrinsic+json": {
              "type": "string"
            }
          },
          "metadata": {},
          "execution_count": 12
        }
      ]
    },
    {
      "cell_type": "code",
      "source": [
        "'''img_1_path = '/content/drive/MyDrive/Projects/Face Mask Recognition/images/' + df['image_file'].iloc[0]\n",
        "img_1_path'''"
      ],
      "metadata": {
        "colab": {
          "base_uri": "https://localhost:8080/",
          "height": 36
        },
        "id": "XLJp7ENg6lr7",
        "outputId": "8704bbbf-973a-485d-f358-67a507826ec3"
      },
      "execution_count": 13,
      "outputs": [
        {
          "output_type": "execute_result",
          "data": {
            "text/plain": [
              "\"img_1_path = '/content/drive/MyDrive/Projects/Face Mask Recognition/images/' + df['image_file'].iloc[0]\\nimg_1_path\""
            ],
            "application/vnd.google.colaboratory.intrinsic+json": {
              "type": "string"
            }
          },
          "metadata": {},
          "execution_count": 13
        }
      ]
    },
    {
      "cell_type": "code",
      "source": [
        "# reading image using its path\n",
        "'''img_1 = cv2.imread(img_1_path)\n",
        "img_1'''"
      ],
      "metadata": {
        "colab": {
          "base_uri": "https://localhost:8080/",
          "height": 36
        },
        "id": "ydOBG04z8prt",
        "outputId": "8030b182-ed0b-4fa6-a4fa-4f26a13cf829"
      },
      "execution_count": 14,
      "outputs": [
        {
          "output_type": "execute_result",
          "data": {
            "text/plain": [
              "'img_1 = cv2.imread(img_1_path)\\nimg_1'"
            ],
            "application/vnd.google.colaboratory.intrinsic+json": {
              "type": "string"
            }
          },
          "metadata": {},
          "execution_count": 14
        }
      ]
    },
    {
      "cell_type": "markdown",
      "source": [
        "The image is in NumPy array form, to view the actual image, we simply use the render_image() function that we've defined earlier and convert it to RGB."
      ],
      "metadata": {
        "id": "qEhPF_5_88Mn"
      }
    },
    {
      "cell_type": "code",
      "source": [
        "# display the image\n",
        "'''render_image(convert_to_RGB(img_1))'''"
      ],
      "metadata": {
        "colab": {
          "base_uri": "https://localhost:8080/",
          "height": 36
        },
        "id": "PPjQChJY8404",
        "outputId": "74840ffd-f132-44a0-ffd6-2b5fd108452f"
      },
      "execution_count": 15,
      "outputs": [
        {
          "output_type": "execute_result",
          "data": {
            "text/plain": [
              "'render_image(convert_to_RGB(img_1))'"
            ],
            "application/vnd.google.colaboratory.intrinsic+json": {
              "type": "string"
            }
          },
          "metadata": {},
          "execution_count": 15
        }
      ]
    },
    {
      "cell_type": "markdown",
      "source": [
        "# **Crop Images**\n",
        "Since there are multiple labels in an image (caused by more than 1 person in an image), we need to crop the image into several images that only consist of 1 person. We can use one of the images (ex: img_1) as our sample to make sure that we can crop images in a correct way.\n",
        "\n",
        "We need xmin, ymin, xmax, and ymax values so that we can crop the image within the bounding box."
      ],
      "metadata": {
        "id": "ySN100w99RNx"
      }
    },
    {
      "cell_type": "code",
      "source": [
        "'''x = df['xmin'].iloc[0]\n",
        "y = df['ymin'].iloc[0]\n",
        "width = df['xmax'].iloc[0]\n",
        "height = df['ymax'].iloc[0]\n",
        "\n",
        "cropped_1 = img_1[y: height, x: width]\n",
        "render_image(cropped_1)'''"
      ],
      "metadata": {
        "colab": {
          "base_uri": "https://localhost:8080/",
          "height": 36
        },
        "id": "1sdK2PgH9Emo",
        "outputId": "93fa7402-506c-4e55-850d-bb6903b2dddf"
      },
      "execution_count": 16,
      "outputs": [
        {
          "output_type": "execute_result",
          "data": {
            "text/plain": [
              "\"x = df['xmin'].iloc[0]\\ny = df['ymin'].iloc[0]\\nwidth = df['xmax'].iloc[0]\\nheight = df['ymax'].iloc[0]\\n\\ncropped_1 = img_1[y: height, x: width]\\nrender_image(cropped_1)\""
            ],
            "application/vnd.google.colaboratory.intrinsic+json": {
              "type": "string"
            }
          },
          "metadata": {},
          "execution_count": 16
        }
      ]
    },
    {
      "cell_type": "markdown",
      "source": [
        "In this example, I converted the rightmost person in image_1. Now displaying the image in RGB form"
      ],
      "metadata": {
        "id": "iQTHQYhD_Ab-"
      }
    },
    {
      "cell_type": "code",
      "source": [
        "'''render_image(convert_to_RGB(cropped_1))'''"
      ],
      "metadata": {
        "colab": {
          "base_uri": "https://localhost:8080/",
          "height": 36
        },
        "id": "70GCXx5F-vM4",
        "outputId": "456c6335-8081-48fc-ca84-2051ef1a72ea"
      },
      "execution_count": 17,
      "outputs": [
        {
          "output_type": "execute_result",
          "data": {
            "text/plain": [
              "'render_image(convert_to_RGB(cropped_1))'"
            ],
            "application/vnd.google.colaboratory.intrinsic+json": {
              "type": "string"
            }
          },
          "metadata": {},
          "execution_count": 17
        }
      ]
    },
    {
      "cell_type": "markdown",
      "source": [
        "Need to apply this to all images in the dataframe."
      ],
      "metadata": {
        "id": "2VrNjbR6_mUp"
      }
    },
    {
      "cell_type": "code",
      "source": [
        "len(df)"
      ],
      "metadata": {
        "colab": {
          "base_uri": "https://localhost:8080/"
        },
        "id": "Pv9-aFuI-4WY",
        "outputId": "fd525619-1e01-479f-cf23-672cd9c1792e"
      },
      "execution_count": 18,
      "outputs": [
        {
          "output_type": "execute_result",
          "data": {
            "text/plain": [
              "4072"
            ]
          },
          "metadata": {},
          "execution_count": 18
        }
      ]
    },
    {
      "cell_type": "markdown",
      "source": [
        "So, there will be around 4072 cropped images so the **multiple label in an image** problem is solved."
      ],
      "metadata": {
        "id": "LvjbFq2-_yCm"
      }
    },
    {
      "cell_type": "markdown",
      "source": [
        "Creating a new directory for cropped images\n"
      ],
      "metadata": {
        "id": "wNsUZ4BlBcUF"
      }
    },
    {
      "cell_type": "code",
      "source": [
        "import os\n",
        "\n",
        "directory = 'Cropped_Images_Final'\n",
        "parent_directory = '/content/drive/MyDrive/Projects/Face Mask Recognition'\n",
        "\n",
        "path = os.path.join(parent_directory, directory)\n",
        "os.mkdir(path)"
      ],
      "metadata": {
        "id": "GqdiHLnQ_vSz"
      },
      "execution_count": 28,
      "outputs": []
    },
    {
      "cell_type": "markdown",
      "source": [
        "Adding Cropped images to new directory"
      ],
      "metadata": {
        "id": "wQEhg9_DB_n4"
      }
    },
    {
      "cell_type": "code",
      "source": [
        "df['cropped_image_file'] = df['file']\n",
        "df.head()"
      ],
      "metadata": {
        "colab": {
          "base_uri": "https://localhost:8080/",
          "height": 206
        },
        "id": "K2X3zQfCBvty",
        "outputId": "fe21d298-dedd-42d5-f75b-186938367a25"
      },
      "execution_count": 29,
      "outputs": [
        {
          "output_type": "execute_result",
          "data": {
            "text/plain": [
              "  xmin ymin xmax ymax      label           file width height  \\\n",
              "0  321   34  354   69  with_mask  maksssksksss1   400    156   \n",
              "1  224   38  261   73  with_mask  maksssksksss1   400    156   \n",
              "2  299   58  315   81  with_mask  maksssksksss1   400    156   \n",
              "3  143   74  174  115  with_mask  maksssksksss1   400    156   \n",
              "4   74   69   95   99  with_mask  maksssksksss1   400    156   \n",
              "\n",
              "     annotation_file         image_file cropped_image_file  \n",
              "0  maksssksksss1.xml  maksssksksss1.png      maksssksksss1  \n",
              "1  maksssksksss1.xml  maksssksksss1.png      maksssksksss1  \n",
              "2  maksssksksss1.xml  maksssksksss1.png      maksssksksss1  \n",
              "3  maksssksksss1.xml  maksssksksss1.png      maksssksksss1  \n",
              "4  maksssksksss1.xml  maksssksksss1.png      maksssksksss1  "
            ],
            "text/html": [
              "\n",
              "  <div id=\"df-c3e34c02-551b-420c-b8db-db4ce200f5b4\">\n",
              "    <div class=\"colab-df-container\">\n",
              "      <div>\n",
              "<style scoped>\n",
              "    .dataframe tbody tr th:only-of-type {\n",
              "        vertical-align: middle;\n",
              "    }\n",
              "\n",
              "    .dataframe tbody tr th {\n",
              "        vertical-align: top;\n",
              "    }\n",
              "\n",
              "    .dataframe thead th {\n",
              "        text-align: right;\n",
              "    }\n",
              "</style>\n",
              "<table border=\"1\" class=\"dataframe\">\n",
              "  <thead>\n",
              "    <tr style=\"text-align: right;\">\n",
              "      <th></th>\n",
              "      <th>xmin</th>\n",
              "      <th>ymin</th>\n",
              "      <th>xmax</th>\n",
              "      <th>ymax</th>\n",
              "      <th>label</th>\n",
              "      <th>file</th>\n",
              "      <th>width</th>\n",
              "      <th>height</th>\n",
              "      <th>annotation_file</th>\n",
              "      <th>image_file</th>\n",
              "      <th>cropped_image_file</th>\n",
              "    </tr>\n",
              "  </thead>\n",
              "  <tbody>\n",
              "    <tr>\n",
              "      <th>0</th>\n",
              "      <td>321</td>\n",
              "      <td>34</td>\n",
              "      <td>354</td>\n",
              "      <td>69</td>\n",
              "      <td>with_mask</td>\n",
              "      <td>maksssksksss1</td>\n",
              "      <td>400</td>\n",
              "      <td>156</td>\n",
              "      <td>maksssksksss1.xml</td>\n",
              "      <td>maksssksksss1.png</td>\n",
              "      <td>maksssksksss1</td>\n",
              "    </tr>\n",
              "    <tr>\n",
              "      <th>1</th>\n",
              "      <td>224</td>\n",
              "      <td>38</td>\n",
              "      <td>261</td>\n",
              "      <td>73</td>\n",
              "      <td>with_mask</td>\n",
              "      <td>maksssksksss1</td>\n",
              "      <td>400</td>\n",
              "      <td>156</td>\n",
              "      <td>maksssksksss1.xml</td>\n",
              "      <td>maksssksksss1.png</td>\n",
              "      <td>maksssksksss1</td>\n",
              "    </tr>\n",
              "    <tr>\n",
              "      <th>2</th>\n",
              "      <td>299</td>\n",
              "      <td>58</td>\n",
              "      <td>315</td>\n",
              "      <td>81</td>\n",
              "      <td>with_mask</td>\n",
              "      <td>maksssksksss1</td>\n",
              "      <td>400</td>\n",
              "      <td>156</td>\n",
              "      <td>maksssksksss1.xml</td>\n",
              "      <td>maksssksksss1.png</td>\n",
              "      <td>maksssksksss1</td>\n",
              "    </tr>\n",
              "    <tr>\n",
              "      <th>3</th>\n",
              "      <td>143</td>\n",
              "      <td>74</td>\n",
              "      <td>174</td>\n",
              "      <td>115</td>\n",
              "      <td>with_mask</td>\n",
              "      <td>maksssksksss1</td>\n",
              "      <td>400</td>\n",
              "      <td>156</td>\n",
              "      <td>maksssksksss1.xml</td>\n",
              "      <td>maksssksksss1.png</td>\n",
              "      <td>maksssksksss1</td>\n",
              "    </tr>\n",
              "    <tr>\n",
              "      <th>4</th>\n",
              "      <td>74</td>\n",
              "      <td>69</td>\n",
              "      <td>95</td>\n",
              "      <td>99</td>\n",
              "      <td>with_mask</td>\n",
              "      <td>maksssksksss1</td>\n",
              "      <td>400</td>\n",
              "      <td>156</td>\n",
              "      <td>maksssksksss1.xml</td>\n",
              "      <td>maksssksksss1.png</td>\n",
              "      <td>maksssksksss1</td>\n",
              "    </tr>\n",
              "  </tbody>\n",
              "</table>\n",
              "</div>\n",
              "      <button class=\"colab-df-convert\" onclick=\"convertToInteractive('df-c3e34c02-551b-420c-b8db-db4ce200f5b4')\"\n",
              "              title=\"Convert this dataframe to an interactive table.\"\n",
              "              style=\"display:none;\">\n",
              "        \n",
              "  <svg xmlns=\"http://www.w3.org/2000/svg\" height=\"24px\"viewBox=\"0 0 24 24\"\n",
              "       width=\"24px\">\n",
              "    <path d=\"M0 0h24v24H0V0z\" fill=\"none\"/>\n",
              "    <path d=\"M18.56 5.44l.94 2.06.94-2.06 2.06-.94-2.06-.94-.94-2.06-.94 2.06-2.06.94zm-11 1L8.5 8.5l.94-2.06 2.06-.94-2.06-.94L8.5 2.5l-.94 2.06-2.06.94zm10 10l.94 2.06.94-2.06 2.06-.94-2.06-.94-.94-2.06-.94 2.06-2.06.94z\"/><path d=\"M17.41 7.96l-1.37-1.37c-.4-.4-.92-.59-1.43-.59-.52 0-1.04.2-1.43.59L10.3 9.45l-7.72 7.72c-.78.78-.78 2.05 0 2.83L4 21.41c.39.39.9.59 1.41.59.51 0 1.02-.2 1.41-.59l7.78-7.78 2.81-2.81c.8-.78.8-2.07 0-2.86zM5.41 20L4 18.59l7.72-7.72 1.47 1.35L5.41 20z\"/>\n",
              "  </svg>\n",
              "      </button>\n",
              "      \n",
              "  <style>\n",
              "    .colab-df-container {\n",
              "      display:flex;\n",
              "      flex-wrap:wrap;\n",
              "      gap: 12px;\n",
              "    }\n",
              "\n",
              "    .colab-df-convert {\n",
              "      background-color: #E8F0FE;\n",
              "      border: none;\n",
              "      border-radius: 50%;\n",
              "      cursor: pointer;\n",
              "      display: none;\n",
              "      fill: #1967D2;\n",
              "      height: 32px;\n",
              "      padding: 0 0 0 0;\n",
              "      width: 32px;\n",
              "    }\n",
              "\n",
              "    .colab-df-convert:hover {\n",
              "      background-color: #E2EBFA;\n",
              "      box-shadow: 0px 1px 2px rgba(60, 64, 67, 0.3), 0px 1px 3px 1px rgba(60, 64, 67, 0.15);\n",
              "      fill: #174EA6;\n",
              "    }\n",
              "\n",
              "    [theme=dark] .colab-df-convert {\n",
              "      background-color: #3B4455;\n",
              "      fill: #D2E3FC;\n",
              "    }\n",
              "\n",
              "    [theme=dark] .colab-df-convert:hover {\n",
              "      background-color: #434B5C;\n",
              "      box-shadow: 0px 1px 3px 1px rgba(0, 0, 0, 0.15);\n",
              "      filter: drop-shadow(0px 1px 2px rgba(0, 0, 0, 0.3));\n",
              "      fill: #FFFFFF;\n",
              "    }\n",
              "  </style>\n",
              "\n",
              "      <script>\n",
              "        const buttonEl =\n",
              "          document.querySelector('#df-c3e34c02-551b-420c-b8db-db4ce200f5b4 button.colab-df-convert');\n",
              "        buttonEl.style.display =\n",
              "          google.colab.kernel.accessAllowed ? 'block' : 'none';\n",
              "\n",
              "        async function convertToInteractive(key) {\n",
              "          const element = document.querySelector('#df-c3e34c02-551b-420c-b8db-db4ce200f5b4');\n",
              "          const dataTable =\n",
              "            await google.colab.kernel.invokeFunction('convertToInteractive',\n",
              "                                                     [key], {});\n",
              "          if (!dataTable) return;\n",
              "\n",
              "          const docLinkHtml = 'Like what you see? Visit the ' +\n",
              "            '<a target=\"_blank\" href=https://colab.research.google.com/notebooks/data_table.ipynb>data table notebook</a>'\n",
              "            + ' to learn more about interactive tables.';\n",
              "          element.innerHTML = '';\n",
              "          dataTable['output_type'] = 'display_data';\n",
              "          await google.colab.output.renderOutput(dataTable, element);\n",
              "          const docLink = document.createElement('div');\n",
              "          docLink.innerHTML = docLinkHtml;\n",
              "          element.appendChild(docLink);\n",
              "        }\n",
              "      </script>\n",
              "    </div>\n",
              "  </div>\n",
              "  "
            ]
          },
          "metadata": {},
          "execution_count": 29
        }
      ]
    },
    {
      "cell_type": "markdown",
      "source": [
        "After creating the directory for cropped images, it's time for running a for loop to crop all images"
      ],
      "metadata": {
        "id": "7BbfaMTBDH6m"
      }
    },
    {
      "cell_type": "code",
      "source": [
        "for i in range(len(df)):\n",
        "\n",
        "  # get the file path and read the image\n",
        "  img_filepath = '/content/drive/MyDrive/Projects/Face Mask Recognition/images/' + df['image_file'].iloc[i]\n",
        "  img = cv2.imread(img_filepath)\n",
        "\n",
        "  # setting the cropped image file name\n",
        "  df['cropped_image_file'].iloc[i] = df['cropped_image_file'].iloc[i] + '-' + str(i) + '.png'\n",
        "  cropped_image_filename = df['cropped_image_file'].iloc[i]\n",
        "\n",
        "  xmin = df['xmin'].iloc[i]\n",
        "  ymin = df['ymin'].iloc[i]\n",
        "  xmax = df['xmax'].iloc[i]\n",
        "  ymax = df['ymax'].iloc[i]\n",
        "\n",
        "  cropped_image = img[ymin: ymax, xmin: xmax]\n",
        "\n",
        "  # saving the cropped image\n",
        "  cropped_image_directory = os.path.join('/content/drive/MyDrive/Projects/Face Mask Recognition/Cropped_Images_Final/', cropped_image_filename)\n",
        "  cv2.imwrite(cropped_image_directory, cropped_image)"
      ],
      "metadata": {
        "id": "rL_XIiPeDCLQ"
      },
      "execution_count": 30,
      "outputs": []
    },
    {
      "cell_type": "code",
      "source": [
        "df.head()"
      ],
      "metadata": {
        "colab": {
          "base_uri": "https://localhost:8080/",
          "height": 206
        },
        "id": "dveU1WdmFE7Q",
        "outputId": "f47e9516-f946-4ac9-afad-15451f166035"
      },
      "execution_count": 60,
      "outputs": [
        {
          "output_type": "execute_result",
          "data": {
            "text/plain": [
              "  xmin ymin xmax ymax      label           file width height  \\\n",
              "0  321   34  354   69  with_mask  maksssksksss1   400    156   \n",
              "1  224   38  261   73  with_mask  maksssksksss1   400    156   \n",
              "2  299   58  315   81  with_mask  maksssksksss1   400    156   \n",
              "3  143   74  174  115  with_mask  maksssksksss1   400    156   \n",
              "4   74   69   95   99  with_mask  maksssksksss1   400    156   \n",
              "\n",
              "     annotation_file         image_file   cropped_image_file  \n",
              "0  maksssksksss1.xml  maksssksksss1.png  maksssksksss1-0.png  \n",
              "1  maksssksksss1.xml  maksssksksss1.png  maksssksksss1-1.png  \n",
              "2  maksssksksss1.xml  maksssksksss1.png  maksssksksss1-2.png  \n",
              "3  maksssksksss1.xml  maksssksksss1.png  maksssksksss1-3.png  \n",
              "4  maksssksksss1.xml  maksssksksss1.png  maksssksksss1-4.png  "
            ],
            "text/html": [
              "\n",
              "  <div id=\"df-e5292ec6-cba2-492b-821c-a7d5bfe58fa6\">\n",
              "    <div class=\"colab-df-container\">\n",
              "      <div>\n",
              "<style scoped>\n",
              "    .dataframe tbody tr th:only-of-type {\n",
              "        vertical-align: middle;\n",
              "    }\n",
              "\n",
              "    .dataframe tbody tr th {\n",
              "        vertical-align: top;\n",
              "    }\n",
              "\n",
              "    .dataframe thead th {\n",
              "        text-align: right;\n",
              "    }\n",
              "</style>\n",
              "<table border=\"1\" class=\"dataframe\">\n",
              "  <thead>\n",
              "    <tr style=\"text-align: right;\">\n",
              "      <th></th>\n",
              "      <th>xmin</th>\n",
              "      <th>ymin</th>\n",
              "      <th>xmax</th>\n",
              "      <th>ymax</th>\n",
              "      <th>label</th>\n",
              "      <th>file</th>\n",
              "      <th>width</th>\n",
              "      <th>height</th>\n",
              "      <th>annotation_file</th>\n",
              "      <th>image_file</th>\n",
              "      <th>cropped_image_file</th>\n",
              "    </tr>\n",
              "  </thead>\n",
              "  <tbody>\n",
              "    <tr>\n",
              "      <th>0</th>\n",
              "      <td>321</td>\n",
              "      <td>34</td>\n",
              "      <td>354</td>\n",
              "      <td>69</td>\n",
              "      <td>with_mask</td>\n",
              "      <td>maksssksksss1</td>\n",
              "      <td>400</td>\n",
              "      <td>156</td>\n",
              "      <td>maksssksksss1.xml</td>\n",
              "      <td>maksssksksss1.png</td>\n",
              "      <td>maksssksksss1-0.png</td>\n",
              "    </tr>\n",
              "    <tr>\n",
              "      <th>1</th>\n",
              "      <td>224</td>\n",
              "      <td>38</td>\n",
              "      <td>261</td>\n",
              "      <td>73</td>\n",
              "      <td>with_mask</td>\n",
              "      <td>maksssksksss1</td>\n",
              "      <td>400</td>\n",
              "      <td>156</td>\n",
              "      <td>maksssksksss1.xml</td>\n",
              "      <td>maksssksksss1.png</td>\n",
              "      <td>maksssksksss1-1.png</td>\n",
              "    </tr>\n",
              "    <tr>\n",
              "      <th>2</th>\n",
              "      <td>299</td>\n",
              "      <td>58</td>\n",
              "      <td>315</td>\n",
              "      <td>81</td>\n",
              "      <td>with_mask</td>\n",
              "      <td>maksssksksss1</td>\n",
              "      <td>400</td>\n",
              "      <td>156</td>\n",
              "      <td>maksssksksss1.xml</td>\n",
              "      <td>maksssksksss1.png</td>\n",
              "      <td>maksssksksss1-2.png</td>\n",
              "    </tr>\n",
              "    <tr>\n",
              "      <th>3</th>\n",
              "      <td>143</td>\n",
              "      <td>74</td>\n",
              "      <td>174</td>\n",
              "      <td>115</td>\n",
              "      <td>with_mask</td>\n",
              "      <td>maksssksksss1</td>\n",
              "      <td>400</td>\n",
              "      <td>156</td>\n",
              "      <td>maksssksksss1.xml</td>\n",
              "      <td>maksssksksss1.png</td>\n",
              "      <td>maksssksksss1-3.png</td>\n",
              "    </tr>\n",
              "    <tr>\n",
              "      <th>4</th>\n",
              "      <td>74</td>\n",
              "      <td>69</td>\n",
              "      <td>95</td>\n",
              "      <td>99</td>\n",
              "      <td>with_mask</td>\n",
              "      <td>maksssksksss1</td>\n",
              "      <td>400</td>\n",
              "      <td>156</td>\n",
              "      <td>maksssksksss1.xml</td>\n",
              "      <td>maksssksksss1.png</td>\n",
              "      <td>maksssksksss1-4.png</td>\n",
              "    </tr>\n",
              "  </tbody>\n",
              "</table>\n",
              "</div>\n",
              "      <button class=\"colab-df-convert\" onclick=\"convertToInteractive('df-e5292ec6-cba2-492b-821c-a7d5bfe58fa6')\"\n",
              "              title=\"Convert this dataframe to an interactive table.\"\n",
              "              style=\"display:none;\">\n",
              "        \n",
              "  <svg xmlns=\"http://www.w3.org/2000/svg\" height=\"24px\"viewBox=\"0 0 24 24\"\n",
              "       width=\"24px\">\n",
              "    <path d=\"M0 0h24v24H0V0z\" fill=\"none\"/>\n",
              "    <path d=\"M18.56 5.44l.94 2.06.94-2.06 2.06-.94-2.06-.94-.94-2.06-.94 2.06-2.06.94zm-11 1L8.5 8.5l.94-2.06 2.06-.94-2.06-.94L8.5 2.5l-.94 2.06-2.06.94zm10 10l.94 2.06.94-2.06 2.06-.94-2.06-.94-.94-2.06-.94 2.06-2.06.94z\"/><path d=\"M17.41 7.96l-1.37-1.37c-.4-.4-.92-.59-1.43-.59-.52 0-1.04.2-1.43.59L10.3 9.45l-7.72 7.72c-.78.78-.78 2.05 0 2.83L4 21.41c.39.39.9.59 1.41.59.51 0 1.02-.2 1.41-.59l7.78-7.78 2.81-2.81c.8-.78.8-2.07 0-2.86zM5.41 20L4 18.59l7.72-7.72 1.47 1.35L5.41 20z\"/>\n",
              "  </svg>\n",
              "      </button>\n",
              "      \n",
              "  <style>\n",
              "    .colab-df-container {\n",
              "      display:flex;\n",
              "      flex-wrap:wrap;\n",
              "      gap: 12px;\n",
              "    }\n",
              "\n",
              "    .colab-df-convert {\n",
              "      background-color: #E8F0FE;\n",
              "      border: none;\n",
              "      border-radius: 50%;\n",
              "      cursor: pointer;\n",
              "      display: none;\n",
              "      fill: #1967D2;\n",
              "      height: 32px;\n",
              "      padding: 0 0 0 0;\n",
              "      width: 32px;\n",
              "    }\n",
              "\n",
              "    .colab-df-convert:hover {\n",
              "      background-color: #E2EBFA;\n",
              "      box-shadow: 0px 1px 2px rgba(60, 64, 67, 0.3), 0px 1px 3px 1px rgba(60, 64, 67, 0.15);\n",
              "      fill: #174EA6;\n",
              "    }\n",
              "\n",
              "    [theme=dark] .colab-df-convert {\n",
              "      background-color: #3B4455;\n",
              "      fill: #D2E3FC;\n",
              "    }\n",
              "\n",
              "    [theme=dark] .colab-df-convert:hover {\n",
              "      background-color: #434B5C;\n",
              "      box-shadow: 0px 1px 3px 1px rgba(0, 0, 0, 0.15);\n",
              "      filter: drop-shadow(0px 1px 2px rgba(0, 0, 0, 0.3));\n",
              "      fill: #FFFFFF;\n",
              "    }\n",
              "  </style>\n",
              "\n",
              "      <script>\n",
              "        const buttonEl =\n",
              "          document.querySelector('#df-e5292ec6-cba2-492b-821c-a7d5bfe58fa6 button.colab-df-convert');\n",
              "        buttonEl.style.display =\n",
              "          google.colab.kernel.accessAllowed ? 'block' : 'none';\n",
              "\n",
              "        async function convertToInteractive(key) {\n",
              "          const element = document.querySelector('#df-e5292ec6-cba2-492b-821c-a7d5bfe58fa6');\n",
              "          const dataTable =\n",
              "            await google.colab.kernel.invokeFunction('convertToInteractive',\n",
              "                                                     [key], {});\n",
              "          if (!dataTable) return;\n",
              "\n",
              "          const docLinkHtml = 'Like what you see? Visit the ' +\n",
              "            '<a target=\"_blank\" href=https://colab.research.google.com/notebooks/data_table.ipynb>data table notebook</a>'\n",
              "            + ' to learn more about interactive tables.';\n",
              "          element.innerHTML = '';\n",
              "          dataTable['output_type'] = 'display_data';\n",
              "          await google.colab.output.renderOutput(dataTable, element);\n",
              "          const docLink = document.createElement('div');\n",
              "          docLink.innerHTML = docLinkHtml;\n",
              "          element.appendChild(docLink);\n",
              "        }\n",
              "      </script>\n",
              "    </div>\n",
              "  </div>\n",
              "  "
            ]
          },
          "metadata": {},
          "execution_count": 60
        }
      ]
    },
    {
      "cell_type": "markdown",
      "source": [
        "Taking the image in the zeroth index, and displaying the cropped image."
      ],
      "metadata": {
        "id": "5XKzxWIbJJEb"
      }
    },
    {
      "cell_type": "code",
      "source": [
        "img_1_cropped_path = '/content/drive/MyDrive/Projects/Face Mask Recognition/Cropped_Images_Final/' + df['cropped_image_file'].iloc[0]\n",
        "img_1_cropped_path"
      ],
      "metadata": {
        "colab": {
          "base_uri": "https://localhost:8080/",
          "height": 36
        },
        "id": "EnjwetFmI_lo",
        "outputId": "edde597b-8bec-4c20-b0af-f6fd08feeee5"
      },
      "execution_count": 32,
      "outputs": [
        {
          "output_type": "execute_result",
          "data": {
            "text/plain": [
              "'/content/drive/MyDrive/Projects/Face Mask Recognition/Cropped_Images_Final/maksssksksss1-0.png'"
            ],
            "application/vnd.google.colaboratory.intrinsic+json": {
              "type": "string"
            }
          },
          "metadata": {},
          "execution_count": 32
        }
      ]
    },
    {
      "cell_type": "code",
      "source": [
        "img_1_cropped = cv2.imread(img_1_cropped_path)\n",
        "render_image(convert_to_RGB(img_1_cropped))"
      ],
      "metadata": {
        "colab": {
          "base_uri": "https://localhost:8080/",
          "height": 483
        },
        "id": "kE49Zrh0Jraf",
        "outputId": "e9b8d4f3-38e2-420d-924d-cda94697f3e2"
      },
      "execution_count": 33,
      "outputs": [
        {
          "output_type": "display_data",
          "data": {
            "text/plain": [
              "<Figure size 864x576 with 1 Axes>"
            ],
            "image/png": "[encoded data removed]"
          },
          "metadata": {
            "needs_background": "light"
          }
        }
      ]
    },
    {
      "cell_type": "markdown",
      "source": [
        "# Train-Test Split\n"
      ],
      "metadata": {
        "id": "o3eW2tAo-f2x"
      }
    },
    {
      "cell_type": "markdown",
      "source": [
        "Before proceeding into next steps, splitting the data into training and testing data in the ratio 3 : 1"
      ],
      "metadata": {
        "id": "xRl4bqzF-lJc"
      }
    },
    {
      "cell_type": "code",
      "source": [
        "test_df = df[:800]\n",
        "train_df = df[800:]\n",
        "\n",
        "train_df.shape, test_df.shape"
      ],
      "metadata": {
        "colab": {
          "base_uri": "https://localhost:8080/"
        },
        "id": "uYHzUG8aJ60u",
        "outputId": "9dba8a87-4f6d-4c82-8e91-15e672706ce9"
      },
      "execution_count": 61,
      "outputs": [
        {
          "output_type": "execute_result",
          "data": {
            "text/plain": [
              "((3272, 11), (800, 11))"
            ]
          },
          "metadata": {},
          "execution_count": 61
        }
      ]
    },
    {
      "cell_type": "code",
      "source": [
        "classes = list(train_df['label'].unique())\n",
        "classes"
      ],
      "metadata": {
        "colab": {
          "base_uri": "https://localhost:8080/"
        },
        "id": "FZ6RQ620AL6G",
        "outputId": "eacba35c-075d-4c2d-86e6-119b763321e5"
      },
      "execution_count": 35,
      "outputs": [
        {
          "output_type": "execute_result",
          "data": {
            "text/plain": [
              "['with_mask', 'without_mask', 'mask_incorrectly_worn']"
            ]
          },
          "metadata": {},
          "execution_count": 35
        }
      ]
    },
    {
      "cell_type": "code",
      "source": [
        "# count occurences of labels\n",
        "train_df['label'].value_counts()"
      ],
      "metadata": {
        "colab": {
          "base_uri": "https://localhost:8080/"
        },
        "id": "-hI9Z7h9D0Gn",
        "outputId": "422c3a62-e7a6-4854-84dd-3baa73816095"
      },
      "execution_count": 62,
      "outputs": [
        {
          "output_type": "execute_result",
          "data": {
            "text/plain": [
              "with_mask                2658\n",
              "without_mask              515\n",
              "mask_incorrectly_worn      99\n",
              "Name: label, dtype: int64"
            ]
          },
          "metadata": {},
          "execution_count": 62
        }
      ]
    },
    {
      "cell_type": "code",
      "source": [
        "sorted_label_df = pd.DataFrame(train_df['label'].value_counts()).reset_index()\n",
        "sorted_label_df.rename(columns = {'index': 'label', 'label': 'count'}, inplace = True)\n",
        "sorted_label_df"
      ],
      "metadata": {
        "colab": {
          "base_uri": "https://localhost:8080/",
          "height": 143
        },
        "id": "Gu6agaP9F-xN",
        "outputId": "9c2677b6-188c-4a75-b089-978089d5837a"
      },
      "execution_count": 37,
      "outputs": [
        {
          "output_type": "execute_result",
          "data": {
            "text/plain": [
              "                   label  count\n",
              "0              with_mask   2658\n",
              "1           without_mask    515\n",
              "2  mask_incorrectly_worn     99"
            ],
            "text/html": [
              "\n",
              "  <div id=\"df-53313c23-6b28-4aa5-92bc-dffc2897359d\">\n",
              "    <div class=\"colab-df-container\">\n",
              "      <div>\n",
              "<style scoped>\n",
              "    .dataframe tbody tr th:only-of-type {\n",
              "        vertical-align: middle;\n",
              "    }\n",
              "\n",
              "    .dataframe tbody tr th {\n",
              "        vertical-align: top;\n",
              "    }\n",
              "\n",
              "    .dataframe thead th {\n",
              "        text-align: right;\n",
              "    }\n",
              "</style>\n",
              "<table border=\"1\" class=\"dataframe\">\n",
              "  <thead>\n",
              "    <tr style=\"text-align: right;\">\n",
              "      <th></th>\n",
              "      <th>label</th>\n",
              "      <th>count</th>\n",
              "    </tr>\n",
              "  </thead>\n",
              "  <tbody>\n",
              "    <tr>\n",
              "      <th>0</th>\n",
              "      <td>with_mask</td>\n",
              "      <td>2658</td>\n",
              "    </tr>\n",
              "    <tr>\n",
              "      <th>1</th>\n",
              "      <td>without_mask</td>\n",
              "      <td>515</td>\n",
              "    </tr>\n",
              "    <tr>\n",
              "      <th>2</th>\n",
              "      <td>mask_incorrectly_worn</td>\n",
              "      <td>99</td>\n",
              "    </tr>\n",
              "  </tbody>\n",
              "</table>\n",
              "</div>\n",
              "      <button class=\"colab-df-convert\" onclick=\"convertToInteractive('df-53313c23-6b28-4aa5-92bc-dffc2897359d')\"\n",
              "              title=\"Convert this dataframe to an interactive table.\"\n",
              "              style=\"display:none;\">\n",
              "        \n",
              "  <svg xmlns=\"http://www.w3.org/2000/svg\" height=\"24px\"viewBox=\"0 0 24 24\"\n",
              "       width=\"24px\">\n",
              "    <path d=\"M0 0h24v24H0V0z\" fill=\"none\"/>\n",
              "    <path d=\"M18.56 5.44l.94 2.06.94-2.06 2.06-.94-2.06-.94-.94-2.06-.94 2.06-2.06.94zm-11 1L8.5 8.5l.94-2.06 2.06-.94-2.06-.94L8.5 2.5l-.94 2.06-2.06.94zm10 10l.94 2.06.94-2.06 2.06-.94-2.06-.94-.94-2.06-.94 2.06-2.06.94z\"/><path d=\"M17.41 7.96l-1.37-1.37c-.4-.4-.92-.59-1.43-.59-.52 0-1.04.2-1.43.59L10.3 9.45l-7.72 7.72c-.78.78-.78 2.05 0 2.83L4 21.41c.39.39.9.59 1.41.59.51 0 1.02-.2 1.41-.59l7.78-7.78 2.81-2.81c.8-.78.8-2.07 0-2.86zM5.41 20L4 18.59l7.72-7.72 1.47 1.35L5.41 20z\"/>\n",
              "  </svg>\n",
              "      </button>\n",
              "      \n",
              "  <style>\n",
              "    .colab-df-container {\n",
              "      display:flex;\n",
              "      flex-wrap:wrap;\n",
              "      gap: 12px;\n",
              "    }\n",
              "\n",
              "    .colab-df-convert {\n",
              "      background-color: #E8F0FE;\n",
              "      border: none;\n",
              "      border-radius: 50%;\n",
              "      cursor: pointer;\n",
              "      display: none;\n",
              "      fill: #1967D2;\n",
              "      height: 32px;\n",
              "      padding: 0 0 0 0;\n",
              "      width: 32px;\n",
              "    }\n",
              "\n",
              "    .colab-df-convert:hover {\n",
              "      background-color: #E2EBFA;\n",
              "      box-shadow: 0px 1px 2px rgba(60, 64, 67, 0.3), 0px 1px 3px 1px rgba(60, 64, 67, 0.15);\n",
              "      fill: #174EA6;\n",
              "    }\n",
              "\n",
              "    [theme=dark] .colab-df-convert {\n",
              "      background-color: #3B4455;\n",
              "      fill: #D2E3FC;\n",
              "    }\n",
              "\n",
              "    [theme=dark] .colab-df-convert:hover {\n",
              "      background-color: #434B5C;\n",
              "      box-shadow: 0px 1px 3px 1px rgba(0, 0, 0, 0.15);\n",
              "      filter: drop-shadow(0px 1px 2px rgba(0, 0, 0, 0.3));\n",
              "      fill: #FFFFFF;\n",
              "    }\n",
              "  </style>\n",
              "\n",
              "      <script>\n",
              "        const buttonEl =\n",
              "          document.querySelector('#df-53313c23-6b28-4aa5-92bc-dffc2897359d button.colab-df-convert');\n",
              "        buttonEl.style.display =\n",
              "          google.colab.kernel.accessAllowed ? 'block' : 'none';\n",
              "\n",
              "        async function convertToInteractive(key) {\n",
              "          const element = document.querySelector('#df-53313c23-6b28-4aa5-92bc-dffc2897359d');\n",
              "          const dataTable =\n",
              "            await google.colab.kernel.invokeFunction('convertToInteractive',\n",
              "                                                     [key], {});\n",
              "          if (!dataTable) return;\n",
              "\n",
              "          const docLinkHtml = 'Like what you see? Visit the ' +\n",
              "            '<a target=\"_blank\" href=https://colab.research.google.com/notebooks/data_table.ipynb>data table notebook</a>'\n",
              "            + ' to learn more about interactive tables.';\n",
              "          element.innerHTML = '';\n",
              "          dataTable['output_type'] = 'display_data';\n",
              "          await google.colab.output.renderOutput(dataTable, element);\n",
              "          const docLink = document.createElement('div');\n",
              "          docLink.innerHTML = docLinkHtml;\n",
              "          element.appendChild(docLink);\n",
              "        }\n",
              "      </script>\n",
              "    </div>\n",
              "  </div>\n",
              "  "
            ]
          },
          "metadata": {},
          "execution_count": 37
        }
      ]
    },
    {
      "cell_type": "code",
      "source": [
        "# visualising label counts\n",
        "plt.style.use('seaborn')\n",
        "plt.figure(figsize = (8, 6))\n",
        "barplot = sns.barplot(x = 'count', y = 'label', data = sorted_label_df, orient = 'horizontal', palette = ['green', 'red', 'yellow'])\n",
        "\n",
        "plt.title('Distribution of Labels', fontsize = 26, fontweight = 'bold')\n",
        "plt.xlabel('Count', fontsize = 15, fontweight = 'bold')\n",
        "plt.ylabel('Label', fontsize = 15, fontweight = 'bold')\n",
        "\n",
        "for p in barplot.patches:\n",
        "  width = p.get_width()\n",
        "  percentage = round(width * 100 / sum(sorted_label_df['count']), 2)\n",
        "  plt.text(x = width + 15, y = p.get_y() + 0.55 * p.get_height(), s = f'{int(width)}\\n({percentage} % )')\n",
        "\n",
        "plt.show();"
      ],
      "metadata": {
        "colab": {
          "base_uri": "https://localhost:8080/",
          "height": 417
        },
        "id": "7IyxUufWGiSS",
        "outputId": "77dec4fd-cc51-4430-b193-ffec9d936dd9"
      },
      "execution_count": 38,
      "outputs": [
        {
          "output_type": "display_data",
          "data": {
            "text/plain": [
              "<Figure size 576x432 with 1 Axes>"
            ],
            "image/png": "[encoded data removed]"
          },
          "metadata": {}
        }
      ]
    },
    {
      "cell_type": "code",
      "source": [
        "cropped_image_path = '/content/drive/MyDrive/Projects/Face Mask Recognition/cropped_images_final/' + train_df['cropped_image_file'].iloc[0]\n",
        "cropped_image = cv2.imread(cropped_image_path)\n",
        "cropped_image.shape"
      ],
      "metadata": {
        "colab": {
          "base_uri": "https://localhost:8080/"
        },
        "id": "SF1RGHohH1_r",
        "outputId": "67723c32-5f89-485e-92eb-eedb159ffb97"
      },
      "execution_count": 39,
      "outputs": [
        {
          "output_type": "execute_result",
          "data": {
            "text/plain": [
              "(31, 23, 3)"
            ]
          },
          "metadata": {},
          "execution_count": 39
        }
      ]
    },
    {
      "cell_type": "markdown",
      "source": [
        "Visualising distribution of width and height of image"
      ],
      "metadata": {
        "id": "GpVj0WekJkLf"
      }
    },
    {
      "cell_type": "code",
      "source": [
        "image_width, image_height = [], []\n",
        "for i in range(len(train_df)):\n",
        "  cropped_image_path = '/content/drive/MyDrive/Projects/Face Mask Recognition/Cropped_Images_Final/' + train_df['cropped_image_file'].iloc[i]\n",
        "  cropped_image = cv2.imread(cropped_image_path)\n",
        "\n",
        "  image_width.append(cropped_image.shape[0])\n",
        "  image_height.append(cropped_image.shape[1])"
      ],
      "metadata": {
        "id": "vHf4JMf3I_EG"
      },
      "execution_count": 41,
      "outputs": []
    },
    {
      "cell_type": "code",
      "source": [
        "# Image Width Distribution\n",
        "sns.histplot(image_width, kde = True)\n",
        "plt.title('Image Width Distribution', fontsize = 16, fontweight = 'bold')\n",
        "plt.xlabel('Image Width', fontweight = 'bold')\n",
        "plt.ylabel('Count', fontweight = 'bold')\n",
        "plt.show();"
      ],
      "metadata": {
        "colab": {
          "base_uri": "https://localhost:8080/",
          "height": 379
        },
        "id": "1iRlFLOuJZlx",
        "outputId": "f54f4a2f-2fb1-4ba8-ab76-24c921812d2d"
      },
      "execution_count": 42,
      "outputs": [
        {
          "output_type": "display_data",
          "data": {
            "text/plain": [
              "<Figure size 576x396 with 1 Axes>"
            ],
            "image/png": "[encoded data removed]"
          },
          "metadata": {}
        }
      ]
    },
    {
      "cell_type": "code",
      "source": [
        "# Image Height Distribution\n",
        "sns.histplot(image_height, kde = True)\n",
        "plt.title('Image Height Distribution', fontsize = 16, fontweight = 'bold')\n",
        "plt.xlabel('Image Height', fontweight = 'bold')\n",
        "plt.ylabel('Count', fontweight = 'bold')\n",
        "plt.show();"
      ],
      "metadata": {
        "colab": {
          "base_uri": "https://localhost:8080/",
          "height": 379
        },
        "id": "rAoZp0mJKCaE",
        "outputId": "34ff005a-b623-4d25-fcdc-dd50a380daad"
      },
      "execution_count": 43,
      "outputs": [
        {
          "output_type": "display_data",
          "data": {
            "text/plain": [
              "<Figure size 576x396 with 1 Axes>"
            ],
            "image/png": "[encoded data removed]"
          },
          "metadata": {}
        }
      ]
    },
    {
      "cell_type": "code",
      "source": [
        "print('IMAGE WIDTH')\n",
        "print(f'Min: {min(image_width)}')\n",
        "print(f'Max: {max(image_width)}')\n",
        "print(f'Mean: {np.mean(image_width)}')\n",
        "print(f'Median: {np.median(image_width)}')\n",
        "\n",
        "print('IMAGE HEIGHT')\n",
        "print(f'Min: {min(image_height)}')\n",
        "print(f'Max: {max(image_height)}')\n",
        "print(f'Mean: {np.mean(image_height)}')\n",
        "print(f'Median: {np.median(image_height)}')"
      ],
      "metadata": {
        "colab": {
          "base_uri": "https://localhost:8080/"
        },
        "id": "MC16qfsVLOhp",
        "outputId": "3794fa8e-280f-471e-ace8-be7cdaf83676"
      },
      "execution_count": 44,
      "outputs": [
        {
          "output_type": "stream",
          "name": "stdout",
          "text": [
            "IMAGE WIDTH\n",
            "Min: 2\n",
            "Max: 337\n",
            "Mean: 34.56020782396088\n",
            "Median: 23.0\n",
            "IMAGE HEIGHT\n",
            "Min: 1\n",
            "Max: 317\n",
            "Mean: 30.71271393643032\n",
            "Median: 22.0\n"
          ]
        }
      ]
    },
    {
      "cell_type": "code",
      "source": [
        "image_target_size = (int(np.median(image_width)), int(np.median(image_height)))\n",
        "image_target_size"
      ],
      "metadata": {
        "colab": {
          "base_uri": "https://localhost:8080/"
        },
        "id": "uv0vK76N-NBm",
        "outputId": "beb46d3e-0a21-42ee-fa29-1067f7a5ade6"
      },
      "execution_count": 45,
      "outputs": [
        {
          "output_type": "execute_result",
          "data": {
            "text/plain": [
              "(23, 22)"
            ]
          },
          "metadata": {},
          "execution_count": 45
        }
      ]
    },
    {
      "cell_type": "code",
      "source": [
        "valid_df = train_df[:800]\n",
        "train_df = train_df[800:]\n",
        "\n",
        "print(len(valid_df), len(train_df))"
      ],
      "metadata": {
        "colab": {
          "base_uri": "https://localhost:8080/"
        },
        "id": "vaVbpDY4ZLzW",
        "outputId": "e2b0fddd-6af1-4e12-f9d4-d3c3bb719ee6"
      },
      "execution_count": 63,
      "outputs": [
        {
          "output_type": "stream",
          "name": "stdout",
          "text": [
            "800 2472\n"
          ]
        }
      ]
    },
    {
      "cell_type": "markdown",
      "source": [
        "Image Data Generator"
      ],
      "metadata": {
        "id": "Cgji5zuP9RnT"
      }
    },
    {
      "cell_type": "code",
      "source": [
        "from keras_preprocessing.image import ImageDataGenerator\n",
        "\n",
        "train_image_generator = ImageDataGenerator(rescale = 1./255, validation_split = 0.20)\n",
        "\n",
        "train_generator = train_image_generator.flow_from_dataframe(\n",
        "    dataframe = train_df,\n",
        "    directory = '/content/drive/MyDrive/Projects/Face Mask Recognition/Cropped_Images_Final',\n",
        "    x_col = 'cropped_image_file',\n",
        "    y_col = 'label',\n",
        "    sunset = 'training',\n",
        "    batch_size = 32,\n",
        "    seed = 42,\n",
        "    shuffle = True,\n",
        "    class_mode = 'categorical',\n",
        "    target_size = image_target_size\n",
        ")"
      ],
      "metadata": {
        "colab": {
          "base_uri": "https://localhost:8080/"
        },
        "id": "RIaL5g7O9NBV",
        "outputId": "f31f4fea-5cd1-4313-939e-3fc8c3180d98"
      },
      "execution_count": 64,
      "outputs": [
        {
          "output_type": "stream",
          "name": "stdout",
          "text": [
            "Found 2472 validated image filenames belonging to 3 classes.\n"
          ]
        }
      ]
    },
    {
      "cell_type": "code",
      "source": [
        "valid_generator = train_image_generator.flow_from_dataframe(\n",
        "    dataframe = valid_df,\n",
        "    directory = '/content/drive/MyDrive/Projects/Face Mask Recognition/Cropped_Images_Final',\n",
        "    x_col = 'cropped_image_file',\n",
        "    y_col = 'label',\n",
        "    sunset = 'validation',\n",
        "    batch_size = 32,\n",
        "    seed = 42,\n",
        "    shuffle = True,\n",
        "    class_mode = 'categorical',\n",
        "    target_size = image_target_size\n",
        ")"
      ],
      "metadata": {
        "colab": {
          "base_uri": "https://localhost:8080/"
        },
        "id": "fA6yAdbn-ORi",
        "outputId": "044b96c5-dd6d-4568-f723-bf1bcbef5362"
      },
      "execution_count": 65,
      "outputs": [
        {
          "output_type": "stream",
          "name": "stdout",
          "text": [
            "Found 800 validated image filenames belonging to 3 classes.\n"
          ]
        }
      ]
    },
    {
      "cell_type": "code",
      "source": [
        "test_generator = train_image_generator.flow_from_dataframe(\n",
        "    dataframe = test_df,\n",
        "    directory = '/content/drive/MyDrive/Projects/Face Mask Recognition/Cropped_Images_Final',\n",
        "    x_col = 'cropped_image_file',\n",
        "    y_col = 'label',\n",
        "    sunset = 'validation',\n",
        "    batch_size = 32,\n",
        "    seed = 42,\n",
        "    shuffle = True,\n",
        "    class_mode = 'categorical',\n",
        "    target_size = image_target_size\n",
        ")"
      ],
      "metadata": {
        "colab": {
          "base_uri": "https://localhost:8080/"
        },
        "id": "nmZ9MMn4-cyO",
        "outputId": "884458e4-697b-4803-d2a4-6f30d2fb3e19"
      },
      "execution_count": 66,
      "outputs": [
        {
          "output_type": "stream",
          "name": "stdout",
          "text": [
            "Found 800 validated image filenames belonging to 3 classes.\n"
          ]
        }
      ]
    },
    {
      "cell_type": "markdown",
      "source": [
        "# Modelling"
      ],
      "metadata": {
        "id": "jsopfxon-0uv"
      }
    },
    {
      "cell_type": "code",
      "source": [
        "input_shape = [int(np.median(image_width)), int(np.median(image_height)), 3]"
      ],
      "metadata": {
        "id": "gi6G2INv-qRu"
      },
      "execution_count": 67,
      "outputs": []
    },
    {
      "cell_type": "code",
      "source": [
        "import tensorflow as tf\n",
        "from tensorflow import keras\n",
        "model = keras.Sequential([\n",
        "                                tf.keras.layers.Conv2D(filters = 10, kernel_size = 3, activation = 'relu', input_shape = input_shape),\n",
        "                                tf.keras.layers.Conv2D(filters = 10, kernel_size = 3, activation = 'relu'),\n",
        "                                tf.keras.layers.MaxPool2D(pool_size = 2, padding = 'valid'),\n",
        "                                tf.keras.layers.Conv2D(filters = 10, kernel_size = 3, activation = 'relu'),\n",
        "                                tf.keras.layers.Conv2D(filters = 10, kernel_size = 3, activation = 'relu'),\n",
        "                                tf.keras.layers.MaxPool2D(pool_size = 2, padding = 'valid'),\n",
        "                                tf.keras.layers.Flatten(),\n",
        "                                tf.keras.layers.Dense(units = len(classes), activation = 'softmax')\n",
        "])"
      ],
      "metadata": {
        "id": "l2SvBsC0U3jd"
      },
      "execution_count": 75,
      "outputs": []
    },
    {
      "cell_type": "code",
      "source": [
        "model.compile(loss = 'categorical_crossentropy',\n",
        "              optimizer = keras.optimizers.Adam(),\n",
        "              metrics = ['accuracy', keras.metrics.Recall()])\n",
        "\n",
        "history = model.fit(train_generator, epochs = 10, steps_per_epoch = len(train_generator),\n",
        "                    validation_data = valid_generator,\n",
        "                    validation_steps = len(valid_generator))"
      ],
      "metadata": {
        "colab": {
          "base_uri": "https://localhost:8080/"
        },
        "id": "bE6oriRDXDAt",
        "outputId": "295bb33c-9ef2-4e2c-ff3e-8dfbe3d6452d"
      },
      "execution_count": 77,
      "outputs": [
        {
          "output_type": "stream",
          "name": "stdout",
          "text": [
            "Epoch 1/10\n",
            "78/78 [==============================] - 20s 103ms/step - loss: 0.5833 - accuracy: 0.8103 - recall_1: 0.7549 - val_loss: 0.4890 - val_accuracy: 0.8188 - val_recall_1: 0.8138\n",
            "Epoch 2/10\n",
            "78/78 [==============================] - 8s 103ms/step - loss: 0.4285 - accuracy: 0.8256 - recall_1: 0.7977 - val_loss: 0.3092 - val_accuracy: 0.9000 - val_recall_1: 0.8687\n",
            "Epoch 3/10\n",
            "78/78 [==============================] - 8s 100ms/step - loss: 0.3107 - accuracy: 0.8977 - recall_1: 0.8847 - val_loss: 0.2982 - val_accuracy: 0.9038 - val_recall_1: 0.8925\n",
            "Epoch 4/10\n",
            "78/78 [==============================] - 8s 98ms/step - loss: 0.2571 - accuracy: 0.9159 - recall_1: 0.9074 - val_loss: 0.2374 - val_accuracy: 0.9262 - val_recall_1: 0.9212\n",
            "Epoch 5/10\n",
            "78/78 [==============================] - 8s 101ms/step - loss: 0.2274 - accuracy: 0.9292 - recall_1: 0.9239 - val_loss: 0.3289 - val_accuracy: 0.9013 - val_recall_1: 0.8988\n",
            "Epoch 6/10\n",
            "78/78 [==============================] - 8s 98ms/step - loss: 0.2151 - accuracy: 0.9328 - recall_1: 0.9235 - val_loss: 0.2242 - val_accuracy: 0.9262 - val_recall_1: 0.9225\n",
            "Epoch 7/10\n",
            "78/78 [==============================] - 8s 99ms/step - loss: 0.1956 - accuracy: 0.9357 - recall_1: 0.9308 - val_loss: 0.2257 - val_accuracy: 0.9250 - val_recall_1: 0.9212\n",
            "Epoch 8/10\n",
            "78/78 [==============================] - 8s 100ms/step - loss: 0.1886 - accuracy: 0.9345 - recall_1: 0.9304 - val_loss: 0.2158 - val_accuracy: 0.9287 - val_recall_1: 0.9250\n",
            "Epoch 9/10\n",
            "78/78 [==============================] - 8s 99ms/step - loss: 0.1810 - accuracy: 0.9417 - recall_1: 0.9349 - val_loss: 0.2106 - val_accuracy: 0.9275 - val_recall_1: 0.9250\n",
            "Epoch 10/10\n",
            "78/78 [==============================] - 8s 98ms/step - loss: 0.1731 - accuracy: 0.9450 - recall_1: 0.9405 - val_loss: 0.2209 - val_accuracy: 0.9262 - val_recall_1: 0.9237\n"
          ]
        }
      ]
    },
    {
      "cell_type": "code",
      "source": [
        "result = pd.DataFrame(history.history)\n",
        "result"
      ],
      "metadata": {
        "colab": {
          "base_uri": "https://localhost:8080/",
          "height": 363
        },
        "id": "r0wbhY68Xnku",
        "outputId": "67e61d71-a616-412a-e525-35dda01d612a"
      },
      "execution_count": 78,
      "outputs": [
        {
          "output_type": "execute_result",
          "data": {
            "text/plain": [
              "       loss  accuracy  recall_1  val_loss  val_accuracy  val_recall_1\n",
              "0  0.583324  0.810275  0.754854  0.488998       0.81875       0.81375\n",
              "1  0.428507  0.825647  0.797735  0.309166       0.90000       0.86875\n",
              "2  0.310714  0.897654  0.884709  0.298168       0.90375       0.89250\n",
              "3  0.257098  0.915858  0.907362  0.237375       0.92625       0.92125\n",
              "4  0.227367  0.929207  0.923948  0.328855       0.90125       0.89875\n",
              "5  0.215071  0.932848  0.923544  0.224188       0.92625       0.92250\n",
              "6  0.195553  0.935680  0.930825  0.225742       0.92500       0.92125\n",
              "7  0.188619  0.934466  0.930421  0.215840       0.92875       0.92500\n",
              "8  0.180960  0.941748  0.934871  0.210618       0.92750       0.92500\n",
              "9  0.173084  0.944984  0.940534  0.220922       0.92625       0.92375"
            ],
            "text/html": [
              "\n",
              "  <div id=\"df-2d103f90-ae00-4b82-95d8-f7b4d63783b9\">\n",
              "    <div class=\"colab-df-container\">\n",
              "      <div>\n",
              "<style scoped>\n",
              "    .dataframe tbody tr th:only-of-type {\n",
              "        vertical-align: middle;\n",
              "    }\n",
              "\n",
              "    .dataframe tbody tr th {\n",
              "        vertical-align: top;\n",
              "    }\n",
              "\n",
              "    .dataframe thead th {\n",
              "        text-align: right;\n",
              "    }\n",
              "</style>\n",
              "<table border=\"1\" class=\"dataframe\">\n",
              "  <thead>\n",
              "    <tr style=\"text-align: right;\">\n",
              "      <th></th>\n",
              "      <th>loss</th>\n",
              "      <th>accuracy</th>\n",
              "      <th>recall_1</th>\n",
              "      <th>val_loss</th>\n",
              "      <th>val_accuracy</th>\n",
              "      <th>val_recall_1</th>\n",
              "    </tr>\n",
              "  </thead>\n",
              "  <tbody>\n",
              "    <tr>\n",
              "      <th>0</th>\n",
              "      <td>0.583324</td>\n",
              "      <td>0.810275</td>\n",
              "      <td>0.754854</td>\n",
              "      <td>0.488998</td>\n",
              "      <td>0.81875</td>\n",
              "      <td>0.81375</td>\n",
              "    </tr>\n",
              "    <tr>\n",
              "      <th>1</th>\n",
              "      <td>0.428507</td>\n",
              "      <td>0.825647</td>\n",
              "      <td>0.797735</td>\n",
              "      <td>0.309166</td>\n",
              "      <td>0.90000</td>\n",
              "      <td>0.86875</td>\n",
              "    </tr>\n",
              "    <tr>\n",
              "      <th>2</th>\n",
              "      <td>0.310714</td>\n",
              "      <td>0.897654</td>\n",
              "      <td>0.884709</td>\n",
              "      <td>0.298168</td>\n",
              "      <td>0.90375</td>\n",
              "      <td>0.89250</td>\n",
              "    </tr>\n",
              "    <tr>\n",
              "      <th>3</th>\n",
              "      <td>0.257098</td>\n",
              "      <td>0.915858</td>\n",
              "      <td>0.907362</td>\n",
              "      <td>0.237375</td>\n",
              "      <td>0.92625</td>\n",
              "      <td>0.92125</td>\n",
              "    </tr>\n",
              "    <tr>\n",
              "      <th>4</th>\n",
              "      <td>0.227367</td>\n",
              "      <td>0.929207</td>\n",
              "      <td>0.923948</td>\n",
              "      <td>0.328855</td>\n",
              "      <td>0.90125</td>\n",
              "      <td>0.89875</td>\n",
              "    </tr>\n",
              "    <tr>\n",
              "      <th>5</th>\n",
              "      <td>0.215071</td>\n",
              "      <td>0.932848</td>\n",
              "      <td>0.923544</td>\n",
              "      <td>0.224188</td>\n",
              "      <td>0.92625</td>\n",
              "      <td>0.92250</td>\n",
              "    </tr>\n",
              "    <tr>\n",
              "      <th>6</th>\n",
              "      <td>0.195553</td>\n",
              "      <td>0.935680</td>\n",
              "      <td>0.930825</td>\n",
              "      <td>0.225742</td>\n",
              "      <td>0.92500</td>\n",
              "      <td>0.92125</td>\n",
              "    </tr>\n",
              "    <tr>\n",
              "      <th>7</th>\n",
              "      <td>0.188619</td>\n",
              "      <td>0.934466</td>\n",
              "      <td>0.930421</td>\n",
              "      <td>0.215840</td>\n",
              "      <td>0.92875</td>\n",
              "      <td>0.92500</td>\n",
              "    </tr>\n",
              "    <tr>\n",
              "      <th>8</th>\n",
              "      <td>0.180960</td>\n",
              "      <td>0.941748</td>\n",
              "      <td>0.934871</td>\n",
              "      <td>0.210618</td>\n",
              "      <td>0.92750</td>\n",
              "      <td>0.92500</td>\n",
              "    </tr>\n",
              "    <tr>\n",
              "      <th>9</th>\n",
              "      <td>0.173084</td>\n",
              "      <td>0.944984</td>\n",
              "      <td>0.940534</td>\n",
              "      <td>0.220922</td>\n",
              "      <td>0.92625</td>\n",
              "      <td>0.92375</td>\n",
              "    </tr>\n",
              "  </tbody>\n",
              "</table>\n",
              "</div>\n",
              "      <button class=\"colab-df-convert\" onclick=\"convertToInteractive('df-2d103f90-ae00-4b82-95d8-f7b4d63783b9')\"\n",
              "              title=\"Convert this dataframe to an interactive table.\"\n",
              "              style=\"display:none;\">\n",
              "        \n",
              "  <svg xmlns=\"http://www.w3.org/2000/svg\" height=\"24px\"viewBox=\"0 0 24 24\"\n",
              "       width=\"24px\">\n",
              "    <path d=\"M0 0h24v24H0V0z\" fill=\"none\"/>\n",
              "    <path d=\"M18.56 5.44l.94 2.06.94-2.06 2.06-.94-2.06-.94-.94-2.06-.94 2.06-2.06.94zm-11 1L8.5 8.5l.94-2.06 2.06-.94-2.06-.94L8.5 2.5l-.94 2.06-2.06.94zm10 10l.94 2.06.94-2.06 2.06-.94-2.06-.94-.94-2.06-.94 2.06-2.06.94z\"/><path d=\"M17.41 7.96l-1.37-1.37c-.4-.4-.92-.59-1.43-.59-.52 0-1.04.2-1.43.59L10.3 9.45l-7.72 7.72c-.78.78-.78 2.05 0 2.83L4 21.41c.39.39.9.59 1.41.59.51 0 1.02-.2 1.41-.59l7.78-7.78 2.81-2.81c.8-.78.8-2.07 0-2.86zM5.41 20L4 18.59l7.72-7.72 1.47 1.35L5.41 20z\"/>\n",
              "  </svg>\n",
              "      </button>\n",
              "      \n",
              "  <style>\n",
              "    .colab-df-container {\n",
              "      display:flex;\n",
              "      flex-wrap:wrap;\n",
              "      gap: 12px;\n",
              "    }\n",
              "\n",
              "    .colab-df-convert {\n",
              "      background-color: #E8F0FE;\n",
              "      border: none;\n",
              "      border-radius: 50%;\n",
              "      cursor: pointer;\n",
              "      display: none;\n",
              "      fill: #1967D2;\n",
              "      height: 32px;\n",
              "      padding: 0 0 0 0;\n",
              "      width: 32px;\n",
              "    }\n",
              "\n",
              "    .colab-df-convert:hover {\n",
              "      background-color: #E2EBFA;\n",
              "      box-shadow: 0px 1px 2px rgba(60, 64, 67, 0.3), 0px 1px 3px 1px rgba(60, 64, 67, 0.15);\n",
              "      fill: #174EA6;\n",
              "    }\n",
              "\n",
              "    [theme=dark] .colab-df-convert {\n",
              "      background-color: #3B4455;\n",
              "      fill: #D2E3FC;\n",
              "    }\n",
              "\n",
              "    [theme=dark] .colab-df-convert:hover {\n",
              "      background-color: #434B5C;\n",
              "      box-shadow: 0px 1px 3px 1px rgba(0, 0, 0, 0.15);\n",
              "      filter: drop-shadow(0px 1px 2px rgba(0, 0, 0, 0.3));\n",
              "      fill: #FFFFFF;\n",
              "    }\n",
              "  </style>\n",
              "\n",
              "      <script>\n",
              "        const buttonEl =\n",
              "          document.querySelector('#df-2d103f90-ae00-4b82-95d8-f7b4d63783b9 button.colab-df-convert');\n",
              "        buttonEl.style.display =\n",
              "          google.colab.kernel.accessAllowed ? 'block' : 'none';\n",
              "\n",
              "        async function convertToInteractive(key) {\n",
              "          const element = document.querySelector('#df-2d103f90-ae00-4b82-95d8-f7b4d63783b9');\n",
              "          const dataTable =\n",
              "            await google.colab.kernel.invokeFunction('convertToInteractive',\n",
              "                                                     [key], {});\n",
              "          if (!dataTable) return;\n",
              "\n",
              "          const docLinkHtml = 'Like what you see? Visit the ' +\n",
              "            '<a target=\"_blank\" href=https://colab.research.google.com/notebooks/data_table.ipynb>data table notebook</a>'\n",
              "            + ' to learn more about interactive tables.';\n",
              "          element.innerHTML = '';\n",
              "          dataTable['output_type'] = 'display_data';\n",
              "          await google.colab.output.renderOutput(dataTable, element);\n",
              "          const docLink = document.createElement('div');\n",
              "          docLink.innerHTML = docLinkHtml;\n",
              "          element.appendChild(docLink);\n",
              "        }\n",
              "      </script>\n",
              "    </div>\n",
              "  </div>\n",
              "  "
            ]
          },
          "metadata": {},
          "execution_count": 78
        }
      ]
    },
    {
      "cell_type": "code",
      "source": [
        "result.plot();"
      ],
      "metadata": {
        "colab": {
          "base_uri": "https://localhost:8080/",
          "height": 347
        },
        "id": "LjenkfvBXq-g",
        "outputId": "be757e67-b819-4dd1-b338-9fe3e937fa97"
      },
      "execution_count": 79,
      "outputs": [
        {
          "output_type": "display_data",
          "data": {
            "text/plain": [
              "<Figure size 576x396 with 1 Axes>"
            ],
            "image/png": "[encoded data removed]"
          },
          "metadata": {}
        }
      ]
    },
    {
      "cell_type": "code",
      "source": [
        "def plot_line(result, ax, col, title, train_column, valid_column):\n",
        "  ax[col].plot(result[train_column])\n",
        "  ax[col].plot(result[valid_column])\n",
        "\n",
        "  ax[col].set_title(title, fontweight = 'bold')\n",
        "  ax[col].legend(['Train', 'Validation'])\n",
        "\n",
        "def plot_result(result, train_recall, valid_recall):\n",
        "  fig, ax = plt.subplots(nrows = 1, ncols = 3, figsize = (17, 8))\n",
        "  fig.suptitle('Model Performance', fontsize = 20, fontweight = 'bold')\n",
        "\n",
        "  plot_line(result, ax, 0, 'Accuarcy', 'accuracy', 'val_accuracy')\n",
        "  plot_line(result, ax, 1, 'Recall', train_recall, valid_recall)\n",
        "  plot_line(result, ax, 2, 'Loss', 'loss', 'val_loss')\n",
        "\n",
        "  plt.show();"
      ],
      "metadata": {
        "id": "bj07uhR-XtGk"
      },
      "execution_count": 95,
      "outputs": []
    },
    {
      "cell_type": "code",
      "source": [
        "plot_result(result, 'recall_1', 'val_recall_1')"
      ],
      "metadata": {
        "colab": {
          "base_uri": "https://localhost:8080/",
          "height": 540
        },
        "id": "zAThFTBSeYhZ",
        "outputId": "46dbf0e0-be3f-46cf-d467-6be8352ec3d7"
      },
      "execution_count": 96,
      "outputs": [
        {
          "output_type": "display_data",
          "data": {
            "text/plain": [
              "<Figure size 1224x576 with 3 Axes>"
            ],
            "image/png": "[encoded data removed]"
          },
          "metadata": {}
        }
      ]
    },
    {
      "cell_type": "markdown",
      "source": [
        "# Adding Early Stopping"
      ],
      "metadata": {
        "id": "X9wl712jes-t"
      }
    },
    {
      "cell_type": "code",
      "source": [
        "model_2 = keras.Sequential([\n",
        "    keras.layers.Conv2D(filters = 10, kernel_size = 3, activation = 'relu', input_shape = input_shape),\n",
        "    keras.layers.Conv2D(filters = 10, kernel_size = 3, activation = 'relu'),\n",
        "    keras.layers.MaxPool2D(pool_size = 2, padding = 'valid'),\n",
        "    keras.layers.Conv2D(filters = 10, kernel_size = 3, activation = 'relu'),\n",
        "    keras.layers.Conv2D(filters = 10, kernel_size = 3, activation = 'relu'),\n",
        "    keras.layers.MaxPool2D(pool_size = 2, padding = 'valid'),\n",
        "    keras.layers.Flatten(),\n",
        "    keras.layers.Dense(units = len(classes), activation = 'softmax')\n",
        "])"
      ],
      "metadata": {
        "id": "iaT8paXPedOv"
      },
      "execution_count": 84,
      "outputs": []
    },
    {
      "cell_type": "code",
      "source": [
        "from keras.callbacks import  EarlyStopping,ReduceLROnPlateau\n",
        "model_2.compile(loss = 'categorical_crossentropy',\n",
        "                optimizer = keras.optimizers.Adam(),\n",
        "                metrics = ['accuracy', keras.metrics.Recall()])\n",
        "\n",
        "callback_list = [\n",
        "                 EarlyStopping(monitor = 'accuracy', patience = 2),\n",
        "                 ReduceLROnPlateau(monitor = 'loss', factor = 0.1, patience = 1)\n",
        "]\n",
        "\n",
        "history_2 = model_2.fit(train_generator, epochs = 100, steps_per_epoch = len(train_generator), \n",
        "                        validation_data = valid_generator, validation_steps = len(valid_generator),\n",
        "                        callbacks = callback_list)"
      ],
      "metadata": {
        "colab": {
          "base_uri": "https://localhost:8080/"
        },
        "id": "nxfXKR8Le2eH",
        "outputId": "6a5a5cd3-0654-4507-bff5-092a1c60e039"
      },
      "execution_count": 89,
      "outputs": [
        {
          "output_type": "stream",
          "name": "stdout",
          "text": [
            "Epoch 1/100\n",
            "78/78 [==============================] - 9s 101ms/step - loss: 0.2549 - accuracy: 0.9207 - recall_3: 0.9106 - val_loss: 0.2704 - val_accuracy: 0.9162 - val_recall_3: 0.9137 - lr: 0.0010\n",
            "Epoch 2/100\n",
            "78/78 [==============================] - 8s 96ms/step - loss: 0.2324 - accuracy: 0.9231 - recall_3: 0.9175 - val_loss: 0.2795 - val_accuracy: 0.9150 - val_recall_3: 0.9150 - lr: 0.0010\n",
            "Epoch 3/100\n",
            "78/78 [==============================] - 7s 95ms/step - loss: 0.2080 - accuracy: 0.9328 - recall_3: 0.9248 - val_loss: 0.2797 - val_accuracy: 0.9175 - val_recall_3: 0.9112 - lr: 0.0010\n",
            "Epoch 4/100\n",
            "78/78 [==============================] - 7s 94ms/step - loss: 0.1917 - accuracy: 0.9385 - recall_3: 0.9320 - val_loss: 0.2559 - val_accuracy: 0.9237 - val_recall_3: 0.9237 - lr: 0.0010\n",
            "Epoch 5/100\n",
            "78/78 [==============================] - 7s 95ms/step - loss: 0.1899 - accuracy: 0.9401 - recall_3: 0.9320 - val_loss: 0.2715 - val_accuracy: 0.9175 - val_recall_3: 0.9150 - lr: 0.0010\n",
            "Epoch 6/100\n",
            "78/78 [==============================] - 7s 94ms/step - loss: 0.1822 - accuracy: 0.9365 - recall_3: 0.9320 - val_loss: 0.2375 - val_accuracy: 0.9250 - val_recall_3: 0.9237 - lr: 0.0010\n",
            "Epoch 7/100\n",
            "78/78 [==============================] - 7s 95ms/step - loss: 0.1680 - accuracy: 0.9430 - recall_3: 0.9417 - val_loss: 0.2902 - val_accuracy: 0.9200 - val_recall_3: 0.9175 - lr: 0.0010\n",
            "Epoch 8/100\n",
            "78/78 [==============================] - 7s 94ms/step - loss: 0.1639 - accuracy: 0.9458 - recall_3: 0.9430 - val_loss: 0.2232 - val_accuracy: 0.9262 - val_recall_3: 0.9225 - lr: 0.0010\n",
            "Epoch 9/100\n",
            "78/78 [==============================] - 8s 98ms/step - loss: 0.1599 - accuracy: 0.9446 - recall_3: 0.9401 - val_loss: 0.2392 - val_accuracy: 0.9225 - val_recall_3: 0.9162 - lr: 0.0010\n",
            "Epoch 10/100\n",
            "78/78 [==============================] - 8s 98ms/step - loss: 0.1592 - accuracy: 0.9454 - recall_3: 0.9393 - val_loss: 0.2185 - val_accuracy: 0.9275 - val_recall_3: 0.9250 - lr: 0.0010\n"
          ]
        }
      ]
    },
    {
      "cell_type": "code",
      "source": [
        "result_2 = pd.DataFrame(history_2.history)\n",
        "result_2"
      ],
      "metadata": {
        "colab": {
          "base_uri": "https://localhost:8080/",
          "height": 363
        },
        "id": "J8m5oD4-e6L5",
        "outputId": "33f6ab47-9ffb-4da2-f4ab-c03669b77ace"
      },
      "execution_count": 92,
      "outputs": [
        {
          "output_type": "execute_result",
          "data": {
            "text/plain": [
              "       loss  accuracy  recall_3  val_loss  val_accuracy  val_recall_3     lr\n",
              "0  0.254903  0.920712  0.910599  0.270390       0.91625       0.91375  0.001\n",
              "1  0.232410  0.923139  0.917476  0.279536       0.91500       0.91500  0.001\n",
              "2  0.207974  0.932848  0.924757  0.279684       0.91750       0.91125  0.001\n",
              "3  0.191715  0.938511  0.932039  0.255909       0.92375       0.92375  0.001\n",
              "4  0.189893  0.940129  0.932039  0.271502       0.91750       0.91500  0.001\n",
              "5  0.182227  0.936489  0.932039  0.237503       0.92500       0.92375  0.001\n",
              "6  0.168012  0.942961  0.941748  0.290196       0.92000       0.91750  0.001\n",
              "7  0.163876  0.945793  0.942961  0.223151       0.92625       0.92250  0.001\n",
              "8  0.159925  0.944579  0.940129  0.239208       0.92250       0.91625  0.001\n",
              "9  0.159150  0.945388  0.939320  0.218470       0.92750       0.92500  0.001"
            ],
            "text/html": [
              "\n",
              "  <div id=\"df-d91c9118-c9be-46c4-b58e-c1db8f595287\">\n",
              "    <div class=\"colab-df-container\">\n",
              "      <div>\n",
              "<style scoped>\n",
              "    .dataframe tbody tr th:only-of-type {\n",
              "        vertical-align: middle;\n",
              "    }\n",
              "\n",
              "    .dataframe tbody tr th {\n",
              "        vertical-align: top;\n",
              "    }\n",
              "\n",
              "    .dataframe thead th {\n",
              "        text-align: right;\n",
              "    }\n",
              "</style>\n",
              "<table border=\"1\" class=\"dataframe\">\n",
              "  <thead>\n",
              "    <tr style=\"text-align: right;\">\n",
              "      <th></th>\n",
              "      <th>loss</th>\n",
              "      <th>accuracy</th>\n",
              "      <th>recall_3</th>\n",
              "      <th>val_loss</th>\n",
              "      <th>val_accuracy</th>\n",
              "      <th>val_recall_3</th>\n",
              "      <th>lr</th>\n",
              "    </tr>\n",
              "  </thead>\n",
              "  <tbody>\n",
              "    <tr>\n",
              "      <th>0</th>\n",
              "      <td>0.254903</td>\n",
              "      <td>0.920712</td>\n",
              "      <td>0.910599</td>\n",
              "      <td>0.270390</td>\n",
              "      <td>0.91625</td>\n",
              "      <td>0.91375</td>\n",
              "      <td>0.001</td>\n",
              "    </tr>\n",
              "    <tr>\n",
              "      <th>1</th>\n",
              "      <td>0.232410</td>\n",
              "      <td>0.923139</td>\n",
              "      <td>0.917476</td>\n",
              "      <td>0.279536</td>\n",
              "      <td>0.91500</td>\n",
              "      <td>0.91500</td>\n",
              "      <td>0.001</td>\n",
              "    </tr>\n",
              "    <tr>\n",
              "      <th>2</th>\n",
              "      <td>0.207974</td>\n",
              "      <td>0.932848</td>\n",
              "      <td>0.924757</td>\n",
              "      <td>0.279684</td>\n",
              "      <td>0.91750</td>\n",
              "      <td>0.91125</td>\n",
              "      <td>0.001</td>\n",
              "    </tr>\n",
              "    <tr>\n",
              "      <th>3</th>\n",
              "      <td>0.191715</td>\n",
              "      <td>0.938511</td>\n",
              "      <td>0.932039</td>\n",
              "      <td>0.255909</td>\n",
              "      <td>0.92375</td>\n",
              "      <td>0.92375</td>\n",
              "      <td>0.001</td>\n",
              "    </tr>\n",
              "    <tr>\n",
              "      <th>4</th>\n",
              "      <td>0.189893</td>\n",
              "      <td>0.940129</td>\n",
              "      <td>0.932039</td>\n",
              "      <td>0.271502</td>\n",
              "      <td>0.91750</td>\n",
              "      <td>0.91500</td>\n",
              "      <td>0.001</td>\n",
              "    </tr>\n",
              "    <tr>\n",
              "      <th>5</th>\n",
              "      <td>0.182227</td>\n",
              "      <td>0.936489</td>\n",
              "      <td>0.932039</td>\n",
              "      <td>0.237503</td>\n",
              "      <td>0.92500</td>\n",
              "      <td>0.92375</td>\n",
              "      <td>0.001</td>\n",
              "    </tr>\n",
              "    <tr>\n",
              "      <th>6</th>\n",
              "      <td>0.168012</td>\n",
              "      <td>0.942961</td>\n",
              "      <td>0.941748</td>\n",
              "      <td>0.290196</td>\n",
              "      <td>0.92000</td>\n",
              "      <td>0.91750</td>\n",
              "      <td>0.001</td>\n",
              "    </tr>\n",
              "    <tr>\n",
              "      <th>7</th>\n",
              "      <td>0.163876</td>\n",
              "      <td>0.945793</td>\n",
              "      <td>0.942961</td>\n",
              "      <td>0.223151</td>\n",
              "      <td>0.92625</td>\n",
              "      <td>0.92250</td>\n",
              "      <td>0.001</td>\n",
              "    </tr>\n",
              "    <tr>\n",
              "      <th>8</th>\n",
              "      <td>0.159925</td>\n",
              "      <td>0.944579</td>\n",
              "      <td>0.940129</td>\n",
              "      <td>0.239208</td>\n",
              "      <td>0.92250</td>\n",
              "      <td>0.91625</td>\n",
              "      <td>0.001</td>\n",
              "    </tr>\n",
              "    <tr>\n",
              "      <th>9</th>\n",
              "      <td>0.159150</td>\n",
              "      <td>0.945388</td>\n",
              "      <td>0.939320</td>\n",
              "      <td>0.218470</td>\n",
              "      <td>0.92750</td>\n",
              "      <td>0.92500</td>\n",
              "      <td>0.001</td>\n",
              "    </tr>\n",
              "  </tbody>\n",
              "</table>\n",
              "</div>\n",
              "      <button class=\"colab-df-convert\" onclick=\"convertToInteractive('df-d91c9118-c9be-46c4-b58e-c1db8f595287')\"\n",
              "              title=\"Convert this dataframe to an interactive table.\"\n",
              "              style=\"display:none;\">\n",
              "        \n",
              "  <svg xmlns=\"http://www.w3.org/2000/svg\" height=\"24px\"viewBox=\"0 0 24 24\"\n",
              "       width=\"24px\">\n",
              "    <path d=\"M0 0h24v24H0V0z\" fill=\"none\"/>\n",
              "    <path d=\"M18.56 5.44l.94 2.06.94-2.06 2.06-.94-2.06-.94-.94-2.06-.94 2.06-2.06.94zm-11 1L8.5 8.5l.94-2.06 2.06-.94-2.06-.94L8.5 2.5l-.94 2.06-2.06.94zm10 10l.94 2.06.94-2.06 2.06-.94-2.06-.94-.94-2.06-.94 2.06-2.06.94z\"/><path d=\"M17.41 7.96l-1.37-1.37c-.4-.4-.92-.59-1.43-.59-.52 0-1.04.2-1.43.59L10.3 9.45l-7.72 7.72c-.78.78-.78 2.05 0 2.83L4 21.41c.39.39.9.59 1.41.59.51 0 1.02-.2 1.41-.59l7.78-7.78 2.81-2.81c.8-.78.8-2.07 0-2.86zM5.41 20L4 18.59l7.72-7.72 1.47 1.35L5.41 20z\"/>\n",
              "  </svg>\n",
              "      </button>\n",
              "      \n",
              "  <style>\n",
              "    .colab-df-container {\n",
              "      display:flex;\n",
              "      flex-wrap:wrap;\n",
              "      gap: 12px;\n",
              "    }\n",
              "\n",
              "    .colab-df-convert {\n",
              "      background-color: #E8F0FE;\n",
              "      border: none;\n",
              "      border-radius: 50%;\n",
              "      cursor: pointer;\n",
              "      display: none;\n",
              "      fill: #1967D2;\n",
              "      height: 32px;\n",
              "      padding: 0 0 0 0;\n",
              "      width: 32px;\n",
              "    }\n",
              "\n",
              "    .colab-df-convert:hover {\n",
              "      background-color: #E2EBFA;\n",
              "      box-shadow: 0px 1px 2px rgba(60, 64, 67, 0.3), 0px 1px 3px 1px rgba(60, 64, 67, 0.15);\n",
              "      fill: #174EA6;\n",
              "    }\n",
              "\n",
              "    [theme=dark] .colab-df-convert {\n",
              "      background-color: #3B4455;\n",
              "      fill: #D2E3FC;\n",
              "    }\n",
              "\n",
              "    [theme=dark] .colab-df-convert:hover {\n",
              "      background-color: #434B5C;\n",
              "      box-shadow: 0px 1px 3px 1px rgba(0, 0, 0, 0.15);\n",
              "      filter: drop-shadow(0px 1px 2px rgba(0, 0, 0, 0.3));\n",
              "      fill: #FFFFFF;\n",
              "    }\n",
              "  </style>\n",
              "\n",
              "      <script>\n",
              "        const buttonEl =\n",
              "          document.querySelector('#df-d91c9118-c9be-46c4-b58e-c1db8f595287 button.colab-df-convert');\n",
              "        buttonEl.style.display =\n",
              "          google.colab.kernel.accessAllowed ? 'block' : 'none';\n",
              "\n",
              "        async function convertToInteractive(key) {\n",
              "          const element = document.querySelector('#df-d91c9118-c9be-46c4-b58e-c1db8f595287');\n",
              "          const dataTable =\n",
              "            await google.colab.kernel.invokeFunction('convertToInteractive',\n",
              "                                                     [key], {});\n",
              "          if (!dataTable) return;\n",
              "\n",
              "          const docLinkHtml = 'Like what you see? Visit the ' +\n",
              "            '<a target=\"_blank\" href=https://colab.research.google.com/notebooks/data_table.ipynb>data table notebook</a>'\n",
              "            + ' to learn more about interactive tables.';\n",
              "          element.innerHTML = '';\n",
              "          dataTable['output_type'] = 'display_data';\n",
              "          await google.colab.output.renderOutput(dataTable, element);\n",
              "          const docLink = document.createElement('div');\n",
              "          docLink.innerHTML = docLinkHtml;\n",
              "          element.appendChild(docLink);\n",
              "        }\n",
              "      </script>\n",
              "    </div>\n",
              "  </div>\n",
              "  "
            ]
          },
          "metadata": {},
          "execution_count": 92
        }
      ]
    },
    {
      "cell_type": "code",
      "source": [
        "result_2.plot()"
      ],
      "metadata": {
        "colab": {
          "base_uri": "https://localhost:8080/",
          "height": 365
        },
        "id": "cNvGgm_te-PE",
        "outputId": "d4f455c5-3c72-47c2-d10e-1c019bef0f2f"
      },
      "execution_count": 93,
      "outputs": [
        {
          "output_type": "execute_result",
          "data": {
            "text/plain": [
              "<matplotlib.axes._subplots.AxesSubplot at 0x7fda24b1d7d0>"
            ]
          },
          "metadata": {},
          "execution_count": 93
        },
        {
          "output_type": "display_data",
          "data": {
            "text/plain": [
              "<Figure size 576x396 with 1 Axes>"
            ],
            "image/png": "[encoded data removed]"
          },
          "metadata": {}
        }
      ]
    },
    {
      "cell_type": "code",
      "source": [
        "plot_result(result_2, 'recall_3', 'val_recall_3')"
      ],
      "metadata": {
        "colab": {
          "base_uri": "https://localhost:8080/",
          "height": 540
        },
        "id": "8D0o8B5PfATd",
        "outputId": "da1edacb-7a97-46ce-c497-7aff1eb71521"
      },
      "execution_count": 97,
      "outputs": [
        {
          "output_type": "display_data",
          "data": {
            "text/plain": [
              "<Figure size 1224x576 with 3 Axes>"
            ],
            "image/png": "[encoded data removed]"
          },
          "metadata": {}
        }
      ]
    },
    {
      "cell_type": "code",
      "source": [
        ""
      ],
      "metadata": {
        "id": "-q3fNdPNfGGF"
      },
      "execution_count": null,
      "outputs": []
    }
  ]
}